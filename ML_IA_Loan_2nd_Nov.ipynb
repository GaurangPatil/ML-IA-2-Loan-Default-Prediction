{
  "nbformat": 4,
  "nbformat_minor": 0,
  "metadata": {
    "kernelspec": {
      "display_name": "Python 3",
      "language": "python",
      "name": "python3"
    },
    "language_info": {
      "codemirror_mode": {
        "name": "ipython",
        "version": 3
      },
      "file_extension": ".py",
      "mimetype": "text/x-python",
      "name": "python",
      "nbconvert_exporter": "python",
      "pygments_lexer": "ipython3",
      "version": "3.7.3"
    },
    "colab": {
      "name": "ML IA Loan-2nd Nov.ipynb",
      "provenance": []
    },
    "accelerator": "GPU"
  },
  "cells": [
    {
      "cell_type": "code",
      "metadata": {
        "id": "2CfpKRHnW41A"
      },
      "source": [
        "import numpy as np\n",
        "import pandas as pd\n",
        "import matplotlib.pyplot as plt\n",
        "%matplotlib inline\n",
        "import seaborn as sns"
      ],
      "execution_count": null,
      "outputs": []
    },
    {
      "cell_type": "code",
      "metadata": {
        "id": "twf9YeJNW41L",
        "colab": {
          "base_uri": "https://localhost:8080/"
        },
        "outputId": "0a12f451-069c-47b0-9e3c-6cacb3c6ba88"
      },
      "source": [
        "data=pd.read_csv(\"credit_train.csv\",na_values=[np.nan]) \n",
        "df = pd.DataFrame(data) \n",
        "df.info()"
      ],
      "execution_count": null,
      "outputs": [
        {
          "output_type": "stream",
          "name": "stdout",
          "text": [
            "<class 'pandas.core.frame.DataFrame'>\n",
            "RangeIndex: 100514 entries, 0 to 100513\n",
            "Data columns (total 19 columns):\n",
            " #   Column                        Non-Null Count   Dtype  \n",
            "---  ------                        --------------   -----  \n",
            " 0   Loan ID                       100000 non-null  object \n",
            " 1   Customer ID                   100000 non-null  object \n",
            " 2   Loan Status                   100000 non-null  object \n",
            " 3   Current Loan Amount           100000 non-null  float64\n",
            " 4   Term                          100000 non-null  object \n",
            " 5   Credit Score                  80846 non-null   float64\n",
            " 6   Annual Income                 80846 non-null   float64\n",
            " 7   Years in current job          95778 non-null   object \n",
            " 8   Home Ownership                100000 non-null  object \n",
            " 9   Purpose                       100000 non-null  object \n",
            " 10  Monthly Debt                  100000 non-null  float64\n",
            " 11  Years of Credit History       100000 non-null  float64\n",
            " 12  Months since last delinquent  46859 non-null   float64\n",
            " 13  Number of Open Accounts       100000 non-null  float64\n",
            " 14  Number of Credit Problems     100000 non-null  float64\n",
            " 15  Current Credit Balance        100000 non-null  float64\n",
            " 16  Maximum Open Credit           99998 non-null   float64\n",
            " 17  Bankruptcies                  99796 non-null   float64\n",
            " 18  Tax Liens                     99990 non-null   float64\n",
            "dtypes: float64(12), object(7)\n",
            "memory usage: 14.6+ MB\n"
          ]
        }
      ]
    },
    {
      "cell_type": "code",
      "metadata": {
        "id": "2JltrfCfW41P",
        "colab": {
          "base_uri": "https://localhost:8080/",
          "height": 350
        },
        "outputId": "620ae334-fd26-4868-89c4-a0249325950a"
      },
      "source": [
        "df.describe()"
      ],
      "execution_count": null,
      "outputs": [
        {
          "output_type": "execute_result",
          "data": {
            "text/html": [
              "<div>\n",
              "<style scoped>\n",
              "    .dataframe tbody tr th:only-of-type {\n",
              "        vertical-align: middle;\n",
              "    }\n",
              "\n",
              "    .dataframe tbody tr th {\n",
              "        vertical-align: top;\n",
              "    }\n",
              "\n",
              "    .dataframe thead th {\n",
              "        text-align: right;\n",
              "    }\n",
              "</style>\n",
              "<table border=\"1\" class=\"dataframe\">\n",
              "  <thead>\n",
              "    <tr style=\"text-align: right;\">\n",
              "      <th></th>\n",
              "      <th>Current Loan Amount</th>\n",
              "      <th>Credit Score</th>\n",
              "      <th>Annual Income</th>\n",
              "      <th>Monthly Debt</th>\n",
              "      <th>Years of Credit History</th>\n",
              "      <th>Months since last delinquent</th>\n",
              "      <th>Number of Open Accounts</th>\n",
              "      <th>Number of Credit Problems</th>\n",
              "      <th>Current Credit Balance</th>\n",
              "      <th>Maximum Open Credit</th>\n",
              "      <th>Bankruptcies</th>\n",
              "      <th>Tax Liens</th>\n",
              "    </tr>\n",
              "  </thead>\n",
              "  <tbody>\n",
              "    <tr>\n",
              "      <th>count</th>\n",
              "      <td>1.000000e+05</td>\n",
              "      <td>80846.000000</td>\n",
              "      <td>8.084600e+04</td>\n",
              "      <td>100000.000000</td>\n",
              "      <td>100000.000000</td>\n",
              "      <td>46859.000000</td>\n",
              "      <td>100000.00000</td>\n",
              "      <td>100000.000000</td>\n",
              "      <td>1.000000e+05</td>\n",
              "      <td>9.999800e+04</td>\n",
              "      <td>99796.000000</td>\n",
              "      <td>99990.000000</td>\n",
              "    </tr>\n",
              "    <tr>\n",
              "      <th>mean</th>\n",
              "      <td>1.176045e+07</td>\n",
              "      <td>1076.456089</td>\n",
              "      <td>1.378277e+06</td>\n",
              "      <td>18472.412336</td>\n",
              "      <td>18.199141</td>\n",
              "      <td>34.901321</td>\n",
              "      <td>11.12853</td>\n",
              "      <td>0.168310</td>\n",
              "      <td>2.946374e+05</td>\n",
              "      <td>7.607984e+05</td>\n",
              "      <td>0.117740</td>\n",
              "      <td>0.029313</td>\n",
              "    </tr>\n",
              "    <tr>\n",
              "      <th>std</th>\n",
              "      <td>3.178394e+07</td>\n",
              "      <td>1475.403791</td>\n",
              "      <td>1.081360e+06</td>\n",
              "      <td>12174.992609</td>\n",
              "      <td>7.015324</td>\n",
              "      <td>21.997829</td>\n",
              "      <td>5.00987</td>\n",
              "      <td>0.482705</td>\n",
              "      <td>3.761709e+05</td>\n",
              "      <td>8.384503e+06</td>\n",
              "      <td>0.351424</td>\n",
              "      <td>0.258182</td>\n",
              "    </tr>\n",
              "    <tr>\n",
              "      <th>min</th>\n",
              "      <td>1.080200e+04</td>\n",
              "      <td>585.000000</td>\n",
              "      <td>7.662700e+04</td>\n",
              "      <td>0.000000</td>\n",
              "      <td>3.600000</td>\n",
              "      <td>0.000000</td>\n",
              "      <td>0.00000</td>\n",
              "      <td>0.000000</td>\n",
              "      <td>0.000000e+00</td>\n",
              "      <td>0.000000e+00</td>\n",
              "      <td>0.000000</td>\n",
              "      <td>0.000000</td>\n",
              "    </tr>\n",
              "    <tr>\n",
              "      <th>25%</th>\n",
              "      <td>1.796520e+05</td>\n",
              "      <td>705.000000</td>\n",
              "      <td>8.488440e+05</td>\n",
              "      <td>10214.162500</td>\n",
              "      <td>13.500000</td>\n",
              "      <td>16.000000</td>\n",
              "      <td>8.00000</td>\n",
              "      <td>0.000000</td>\n",
              "      <td>1.126700e+05</td>\n",
              "      <td>2.734380e+05</td>\n",
              "      <td>0.000000</td>\n",
              "      <td>0.000000</td>\n",
              "    </tr>\n",
              "    <tr>\n",
              "      <th>50%</th>\n",
              "      <td>3.122460e+05</td>\n",
              "      <td>724.000000</td>\n",
              "      <td>1.174162e+06</td>\n",
              "      <td>16220.300000</td>\n",
              "      <td>16.900000</td>\n",
              "      <td>32.000000</td>\n",
              "      <td>10.00000</td>\n",
              "      <td>0.000000</td>\n",
              "      <td>2.098170e+05</td>\n",
              "      <td>4.678740e+05</td>\n",
              "      <td>0.000000</td>\n",
              "      <td>0.000000</td>\n",
              "    </tr>\n",
              "    <tr>\n",
              "      <th>75%</th>\n",
              "      <td>5.249420e+05</td>\n",
              "      <td>741.000000</td>\n",
              "      <td>1.650663e+06</td>\n",
              "      <td>24012.057500</td>\n",
              "      <td>21.700000</td>\n",
              "      <td>51.000000</td>\n",
              "      <td>14.00000</td>\n",
              "      <td>0.000000</td>\n",
              "      <td>3.679588e+05</td>\n",
              "      <td>7.829580e+05</td>\n",
              "      <td>0.000000</td>\n",
              "      <td>0.000000</td>\n",
              "    </tr>\n",
              "    <tr>\n",
              "      <th>max</th>\n",
              "      <td>1.000000e+08</td>\n",
              "      <td>7510.000000</td>\n",
              "      <td>1.655574e+08</td>\n",
              "      <td>435843.280000</td>\n",
              "      <td>70.500000</td>\n",
              "      <td>176.000000</td>\n",
              "      <td>76.00000</td>\n",
              "      <td>15.000000</td>\n",
              "      <td>3.287897e+07</td>\n",
              "      <td>1.539738e+09</td>\n",
              "      <td>7.000000</td>\n",
              "      <td>15.000000</td>\n",
              "    </tr>\n",
              "  </tbody>\n",
              "</table>\n",
              "</div>"
            ],
            "text/plain": [
              "       Current Loan Amount  Credit Score  ...  Bankruptcies     Tax Liens\n",
              "count         1.000000e+05  80846.000000  ...  99796.000000  99990.000000\n",
              "mean          1.176045e+07   1076.456089  ...      0.117740      0.029313\n",
              "std           3.178394e+07   1475.403791  ...      0.351424      0.258182\n",
              "min           1.080200e+04    585.000000  ...      0.000000      0.000000\n",
              "25%           1.796520e+05    705.000000  ...      0.000000      0.000000\n",
              "50%           3.122460e+05    724.000000  ...      0.000000      0.000000\n",
              "75%           5.249420e+05    741.000000  ...      0.000000      0.000000\n",
              "max           1.000000e+08   7510.000000  ...      7.000000     15.000000\n",
              "\n",
              "[8 rows x 12 columns]"
            ]
          },
          "metadata": {},
          "execution_count": 97
        }
      ]
    },
    {
      "cell_type": "code",
      "metadata": {
        "id": "evTHwQ56W41R",
        "colab": {
          "base_uri": "https://localhost:8080/",
          "height": 528
        },
        "outputId": "db647ffb-447a-4133-d75c-97a12dcb4aa6"
      },
      "source": [
        "df.head()"
      ],
      "execution_count": null,
      "outputs": [
        {
          "output_type": "execute_result",
          "data": {
            "text/html": [
              "<div>\n",
              "<style scoped>\n",
              "    .dataframe tbody tr th:only-of-type {\n",
              "        vertical-align: middle;\n",
              "    }\n",
              "\n",
              "    .dataframe tbody tr th {\n",
              "        vertical-align: top;\n",
              "    }\n",
              "\n",
              "    .dataframe thead th {\n",
              "        text-align: right;\n",
              "    }\n",
              "</style>\n",
              "<table border=\"1\" class=\"dataframe\">\n",
              "  <thead>\n",
              "    <tr style=\"text-align: right;\">\n",
              "      <th></th>\n",
              "      <th>Loan ID</th>\n",
              "      <th>Customer ID</th>\n",
              "      <th>Loan Status</th>\n",
              "      <th>Current Loan Amount</th>\n",
              "      <th>Term</th>\n",
              "      <th>Credit Score</th>\n",
              "      <th>Annual Income</th>\n",
              "      <th>Years in current job</th>\n",
              "      <th>Home Ownership</th>\n",
              "      <th>Purpose</th>\n",
              "      <th>Monthly Debt</th>\n",
              "      <th>Years of Credit History</th>\n",
              "      <th>Months since last delinquent</th>\n",
              "      <th>Number of Open Accounts</th>\n",
              "      <th>Number of Credit Problems</th>\n",
              "      <th>Current Credit Balance</th>\n",
              "      <th>Maximum Open Credit</th>\n",
              "      <th>Bankruptcies</th>\n",
              "      <th>Tax Liens</th>\n",
              "    </tr>\n",
              "  </thead>\n",
              "  <tbody>\n",
              "    <tr>\n",
              "      <th>0</th>\n",
              "      <td>14dd8831-6af5-400b-83ec-68e61888a048</td>\n",
              "      <td>981165ec-3274-42f5-a3b4-d104041a9ca9</td>\n",
              "      <td>Fully Paid</td>\n",
              "      <td>445412.0</td>\n",
              "      <td>Short Term</td>\n",
              "      <td>709.0</td>\n",
              "      <td>1167493.0</td>\n",
              "      <td>8 years</td>\n",
              "      <td>Home Mortgage</td>\n",
              "      <td>Home Improvements</td>\n",
              "      <td>5214.74</td>\n",
              "      <td>17.2</td>\n",
              "      <td>NaN</td>\n",
              "      <td>6.0</td>\n",
              "      <td>1.0</td>\n",
              "      <td>228190.0</td>\n",
              "      <td>416746.0</td>\n",
              "      <td>1.0</td>\n",
              "      <td>0.0</td>\n",
              "    </tr>\n",
              "    <tr>\n",
              "      <th>1</th>\n",
              "      <td>4771cc26-131a-45db-b5aa-537ea4ba5342</td>\n",
              "      <td>2de017a3-2e01-49cb-a581-08169e83be29</td>\n",
              "      <td>Fully Paid</td>\n",
              "      <td>262328.0</td>\n",
              "      <td>Short Term</td>\n",
              "      <td>NaN</td>\n",
              "      <td>NaN</td>\n",
              "      <td>10+ years</td>\n",
              "      <td>Home Mortgage</td>\n",
              "      <td>Debt Consolidation</td>\n",
              "      <td>33295.98</td>\n",
              "      <td>21.1</td>\n",
              "      <td>8.0</td>\n",
              "      <td>35.0</td>\n",
              "      <td>0.0</td>\n",
              "      <td>229976.0</td>\n",
              "      <td>850784.0</td>\n",
              "      <td>0.0</td>\n",
              "      <td>0.0</td>\n",
              "    </tr>\n",
              "    <tr>\n",
              "      <th>2</th>\n",
              "      <td>4eed4e6a-aa2f-4c91-8651-ce984ee8fb26</td>\n",
              "      <td>5efb2b2b-bf11-4dfd-a572-3761a2694725</td>\n",
              "      <td>Fully Paid</td>\n",
              "      <td>99999999.0</td>\n",
              "      <td>Short Term</td>\n",
              "      <td>741.0</td>\n",
              "      <td>2231892.0</td>\n",
              "      <td>8 years</td>\n",
              "      <td>Own Home</td>\n",
              "      <td>Debt Consolidation</td>\n",
              "      <td>29200.53</td>\n",
              "      <td>14.9</td>\n",
              "      <td>29.0</td>\n",
              "      <td>18.0</td>\n",
              "      <td>1.0</td>\n",
              "      <td>297996.0</td>\n",
              "      <td>750090.0</td>\n",
              "      <td>0.0</td>\n",
              "      <td>0.0</td>\n",
              "    </tr>\n",
              "    <tr>\n",
              "      <th>3</th>\n",
              "      <td>77598f7b-32e7-4e3b-a6e5-06ba0d98fe8a</td>\n",
              "      <td>e777faab-98ae-45af-9a86-7ce5b33b1011</td>\n",
              "      <td>Fully Paid</td>\n",
              "      <td>347666.0</td>\n",
              "      <td>Long Term</td>\n",
              "      <td>721.0</td>\n",
              "      <td>806949.0</td>\n",
              "      <td>3 years</td>\n",
              "      <td>Own Home</td>\n",
              "      <td>Debt Consolidation</td>\n",
              "      <td>8741.90</td>\n",
              "      <td>12.0</td>\n",
              "      <td>NaN</td>\n",
              "      <td>9.0</td>\n",
              "      <td>0.0</td>\n",
              "      <td>256329.0</td>\n",
              "      <td>386958.0</td>\n",
              "      <td>0.0</td>\n",
              "      <td>0.0</td>\n",
              "    </tr>\n",
              "    <tr>\n",
              "      <th>4</th>\n",
              "      <td>d4062e70-befa-4995-8643-a0de73938182</td>\n",
              "      <td>81536ad9-5ccf-4eb8-befb-47a4d608658e</td>\n",
              "      <td>Fully Paid</td>\n",
              "      <td>176220.0</td>\n",
              "      <td>Short Term</td>\n",
              "      <td>NaN</td>\n",
              "      <td>NaN</td>\n",
              "      <td>5 years</td>\n",
              "      <td>Rent</td>\n",
              "      <td>Debt Consolidation</td>\n",
              "      <td>20639.70</td>\n",
              "      <td>6.1</td>\n",
              "      <td>NaN</td>\n",
              "      <td>15.0</td>\n",
              "      <td>0.0</td>\n",
              "      <td>253460.0</td>\n",
              "      <td>427174.0</td>\n",
              "      <td>0.0</td>\n",
              "      <td>0.0</td>\n",
              "    </tr>\n",
              "  </tbody>\n",
              "</table>\n",
              "</div>"
            ],
            "text/plain": [
              "                                Loan ID  ... Tax Liens\n",
              "0  14dd8831-6af5-400b-83ec-68e61888a048  ...       0.0\n",
              "1  4771cc26-131a-45db-b5aa-537ea4ba5342  ...       0.0\n",
              "2  4eed4e6a-aa2f-4c91-8651-ce984ee8fb26  ...       0.0\n",
              "3  77598f7b-32e7-4e3b-a6e5-06ba0d98fe8a  ...       0.0\n",
              "4  d4062e70-befa-4995-8643-a0de73938182  ...       0.0\n",
              "\n",
              "[5 rows x 19 columns]"
            ]
          },
          "metadata": {},
          "execution_count": 98
        }
      ]
    },
    {
      "cell_type": "code",
      "metadata": {
        "scrolled": true,
        "id": "DwaLPaQjW41S",
        "colab": {
          "base_uri": "https://localhost:8080/",
          "height": 274
        },
        "outputId": "ca8a6162-6e35-4ab9-c795-455f2d9a28c9"
      },
      "source": [
        "df.tail()"
      ],
      "execution_count": null,
      "outputs": [
        {
          "output_type": "execute_result",
          "data": {
            "text/html": [
              "<div>\n",
              "<style scoped>\n",
              "    .dataframe tbody tr th:only-of-type {\n",
              "        vertical-align: middle;\n",
              "    }\n",
              "\n",
              "    .dataframe tbody tr th {\n",
              "        vertical-align: top;\n",
              "    }\n",
              "\n",
              "    .dataframe thead th {\n",
              "        text-align: right;\n",
              "    }\n",
              "</style>\n",
              "<table border=\"1\" class=\"dataframe\">\n",
              "  <thead>\n",
              "    <tr style=\"text-align: right;\">\n",
              "      <th></th>\n",
              "      <th>Loan ID</th>\n",
              "      <th>Customer ID</th>\n",
              "      <th>Loan Status</th>\n",
              "      <th>Current Loan Amount</th>\n",
              "      <th>Term</th>\n",
              "      <th>Credit Score</th>\n",
              "      <th>Annual Income</th>\n",
              "      <th>Years in current job</th>\n",
              "      <th>Home Ownership</th>\n",
              "      <th>Purpose</th>\n",
              "      <th>Monthly Debt</th>\n",
              "      <th>Years of Credit History</th>\n",
              "      <th>Months since last delinquent</th>\n",
              "      <th>Number of Open Accounts</th>\n",
              "      <th>Number of Credit Problems</th>\n",
              "      <th>Current Credit Balance</th>\n",
              "      <th>Maximum Open Credit</th>\n",
              "      <th>Bankruptcies</th>\n",
              "      <th>Tax Liens</th>\n",
              "    </tr>\n",
              "  </thead>\n",
              "  <tbody>\n",
              "    <tr>\n",
              "      <th>100509</th>\n",
              "      <td>NaN</td>\n",
              "      <td>NaN</td>\n",
              "      <td>NaN</td>\n",
              "      <td>NaN</td>\n",
              "      <td>NaN</td>\n",
              "      <td>NaN</td>\n",
              "      <td>NaN</td>\n",
              "      <td>NaN</td>\n",
              "      <td>NaN</td>\n",
              "      <td>NaN</td>\n",
              "      <td>NaN</td>\n",
              "      <td>NaN</td>\n",
              "      <td>NaN</td>\n",
              "      <td>NaN</td>\n",
              "      <td>NaN</td>\n",
              "      <td>NaN</td>\n",
              "      <td>NaN</td>\n",
              "      <td>NaN</td>\n",
              "      <td>NaN</td>\n",
              "    </tr>\n",
              "    <tr>\n",
              "      <th>100510</th>\n",
              "      <td>NaN</td>\n",
              "      <td>NaN</td>\n",
              "      <td>NaN</td>\n",
              "      <td>NaN</td>\n",
              "      <td>NaN</td>\n",
              "      <td>NaN</td>\n",
              "      <td>NaN</td>\n",
              "      <td>NaN</td>\n",
              "      <td>NaN</td>\n",
              "      <td>NaN</td>\n",
              "      <td>NaN</td>\n",
              "      <td>NaN</td>\n",
              "      <td>NaN</td>\n",
              "      <td>NaN</td>\n",
              "      <td>NaN</td>\n",
              "      <td>NaN</td>\n",
              "      <td>NaN</td>\n",
              "      <td>NaN</td>\n",
              "      <td>NaN</td>\n",
              "    </tr>\n",
              "    <tr>\n",
              "      <th>100511</th>\n",
              "      <td>NaN</td>\n",
              "      <td>NaN</td>\n",
              "      <td>NaN</td>\n",
              "      <td>NaN</td>\n",
              "      <td>NaN</td>\n",
              "      <td>NaN</td>\n",
              "      <td>NaN</td>\n",
              "      <td>NaN</td>\n",
              "      <td>NaN</td>\n",
              "      <td>NaN</td>\n",
              "      <td>NaN</td>\n",
              "      <td>NaN</td>\n",
              "      <td>NaN</td>\n",
              "      <td>NaN</td>\n",
              "      <td>NaN</td>\n",
              "      <td>NaN</td>\n",
              "      <td>NaN</td>\n",
              "      <td>NaN</td>\n",
              "      <td>NaN</td>\n",
              "    </tr>\n",
              "    <tr>\n",
              "      <th>100512</th>\n",
              "      <td>NaN</td>\n",
              "      <td>NaN</td>\n",
              "      <td>NaN</td>\n",
              "      <td>NaN</td>\n",
              "      <td>NaN</td>\n",
              "      <td>NaN</td>\n",
              "      <td>NaN</td>\n",
              "      <td>NaN</td>\n",
              "      <td>NaN</td>\n",
              "      <td>NaN</td>\n",
              "      <td>NaN</td>\n",
              "      <td>NaN</td>\n",
              "      <td>NaN</td>\n",
              "      <td>NaN</td>\n",
              "      <td>NaN</td>\n",
              "      <td>NaN</td>\n",
              "      <td>NaN</td>\n",
              "      <td>NaN</td>\n",
              "      <td>NaN</td>\n",
              "    </tr>\n",
              "    <tr>\n",
              "      <th>100513</th>\n",
              "      <td>NaN</td>\n",
              "      <td>NaN</td>\n",
              "      <td>NaN</td>\n",
              "      <td>NaN</td>\n",
              "      <td>NaN</td>\n",
              "      <td>NaN</td>\n",
              "      <td>NaN</td>\n",
              "      <td>NaN</td>\n",
              "      <td>NaN</td>\n",
              "      <td>NaN</td>\n",
              "      <td>NaN</td>\n",
              "      <td>NaN</td>\n",
              "      <td>NaN</td>\n",
              "      <td>NaN</td>\n",
              "      <td>NaN</td>\n",
              "      <td>NaN</td>\n",
              "      <td>NaN</td>\n",
              "      <td>NaN</td>\n",
              "      <td>NaN</td>\n",
              "    </tr>\n",
              "  </tbody>\n",
              "</table>\n",
              "</div>"
            ],
            "text/plain": [
              "       Loan ID Customer ID  ... Bankruptcies  Tax Liens\n",
              "100509     NaN         NaN  ...          NaN        NaN\n",
              "100510     NaN         NaN  ...          NaN        NaN\n",
              "100511     NaN         NaN  ...          NaN        NaN\n",
              "100512     NaN         NaN  ...          NaN        NaN\n",
              "100513     NaN         NaN  ...          NaN        NaN\n",
              "\n",
              "[5 rows x 19 columns]"
            ]
          },
          "metadata": {},
          "execution_count": 99
        }
      ]
    },
    {
      "cell_type": "markdown",
      "metadata": {
        "id": "dZT9JFSpW41U"
      },
      "source": [
        "# Eliminate rows which have only NaN values"
      ]
    },
    {
      "cell_type": "code",
      "metadata": {
        "id": "8zgwqn2XW41X",
        "colab": {
          "base_uri": "https://localhost:8080/",
          "height": 488
        },
        "outputId": "b168947c-2ed3-4464-b678-129b6596e8f3"
      },
      "source": [
        "df.iloc[100000:,:]"
      ],
      "execution_count": null,
      "outputs": [
        {
          "output_type": "execute_result",
          "data": {
            "text/html": [
              "<div>\n",
              "<style scoped>\n",
              "    .dataframe tbody tr th:only-of-type {\n",
              "        vertical-align: middle;\n",
              "    }\n",
              "\n",
              "    .dataframe tbody tr th {\n",
              "        vertical-align: top;\n",
              "    }\n",
              "\n",
              "    .dataframe thead th {\n",
              "        text-align: right;\n",
              "    }\n",
              "</style>\n",
              "<table border=\"1\" class=\"dataframe\">\n",
              "  <thead>\n",
              "    <tr style=\"text-align: right;\">\n",
              "      <th></th>\n",
              "      <th>Loan ID</th>\n",
              "      <th>Customer ID</th>\n",
              "      <th>Loan Status</th>\n",
              "      <th>Current Loan Amount</th>\n",
              "      <th>Term</th>\n",
              "      <th>Credit Score</th>\n",
              "      <th>Annual Income</th>\n",
              "      <th>Years in current job</th>\n",
              "      <th>Home Ownership</th>\n",
              "      <th>Purpose</th>\n",
              "      <th>Monthly Debt</th>\n",
              "      <th>Years of Credit History</th>\n",
              "      <th>Months since last delinquent</th>\n",
              "      <th>Number of Open Accounts</th>\n",
              "      <th>Number of Credit Problems</th>\n",
              "      <th>Current Credit Balance</th>\n",
              "      <th>Maximum Open Credit</th>\n",
              "      <th>Bankruptcies</th>\n",
              "      <th>Tax Liens</th>\n",
              "    </tr>\n",
              "  </thead>\n",
              "  <tbody>\n",
              "    <tr>\n",
              "      <th>100000</th>\n",
              "      <td>NaN</td>\n",
              "      <td>NaN</td>\n",
              "      <td>NaN</td>\n",
              "      <td>NaN</td>\n",
              "      <td>NaN</td>\n",
              "      <td>NaN</td>\n",
              "      <td>NaN</td>\n",
              "      <td>NaN</td>\n",
              "      <td>NaN</td>\n",
              "      <td>NaN</td>\n",
              "      <td>NaN</td>\n",
              "      <td>NaN</td>\n",
              "      <td>NaN</td>\n",
              "      <td>NaN</td>\n",
              "      <td>NaN</td>\n",
              "      <td>NaN</td>\n",
              "      <td>NaN</td>\n",
              "      <td>NaN</td>\n",
              "      <td>NaN</td>\n",
              "    </tr>\n",
              "    <tr>\n",
              "      <th>100001</th>\n",
              "      <td>NaN</td>\n",
              "      <td>NaN</td>\n",
              "      <td>NaN</td>\n",
              "      <td>NaN</td>\n",
              "      <td>NaN</td>\n",
              "      <td>NaN</td>\n",
              "      <td>NaN</td>\n",
              "      <td>NaN</td>\n",
              "      <td>NaN</td>\n",
              "      <td>NaN</td>\n",
              "      <td>NaN</td>\n",
              "      <td>NaN</td>\n",
              "      <td>NaN</td>\n",
              "      <td>NaN</td>\n",
              "      <td>NaN</td>\n",
              "      <td>NaN</td>\n",
              "      <td>NaN</td>\n",
              "      <td>NaN</td>\n",
              "      <td>NaN</td>\n",
              "    </tr>\n",
              "    <tr>\n",
              "      <th>100002</th>\n",
              "      <td>NaN</td>\n",
              "      <td>NaN</td>\n",
              "      <td>NaN</td>\n",
              "      <td>NaN</td>\n",
              "      <td>NaN</td>\n",
              "      <td>NaN</td>\n",
              "      <td>NaN</td>\n",
              "      <td>NaN</td>\n",
              "      <td>NaN</td>\n",
              "      <td>NaN</td>\n",
              "      <td>NaN</td>\n",
              "      <td>NaN</td>\n",
              "      <td>NaN</td>\n",
              "      <td>NaN</td>\n",
              "      <td>NaN</td>\n",
              "      <td>NaN</td>\n",
              "      <td>NaN</td>\n",
              "      <td>NaN</td>\n",
              "      <td>NaN</td>\n",
              "    </tr>\n",
              "    <tr>\n",
              "      <th>100003</th>\n",
              "      <td>NaN</td>\n",
              "      <td>NaN</td>\n",
              "      <td>NaN</td>\n",
              "      <td>NaN</td>\n",
              "      <td>NaN</td>\n",
              "      <td>NaN</td>\n",
              "      <td>NaN</td>\n",
              "      <td>NaN</td>\n",
              "      <td>NaN</td>\n",
              "      <td>NaN</td>\n",
              "      <td>NaN</td>\n",
              "      <td>NaN</td>\n",
              "      <td>NaN</td>\n",
              "      <td>NaN</td>\n",
              "      <td>NaN</td>\n",
              "      <td>NaN</td>\n",
              "      <td>NaN</td>\n",
              "      <td>NaN</td>\n",
              "      <td>NaN</td>\n",
              "    </tr>\n",
              "    <tr>\n",
              "      <th>100004</th>\n",
              "      <td>NaN</td>\n",
              "      <td>NaN</td>\n",
              "      <td>NaN</td>\n",
              "      <td>NaN</td>\n",
              "      <td>NaN</td>\n",
              "      <td>NaN</td>\n",
              "      <td>NaN</td>\n",
              "      <td>NaN</td>\n",
              "      <td>NaN</td>\n",
              "      <td>NaN</td>\n",
              "      <td>NaN</td>\n",
              "      <td>NaN</td>\n",
              "      <td>NaN</td>\n",
              "      <td>NaN</td>\n",
              "      <td>NaN</td>\n",
              "      <td>NaN</td>\n",
              "      <td>NaN</td>\n",
              "      <td>NaN</td>\n",
              "      <td>NaN</td>\n",
              "    </tr>\n",
              "    <tr>\n",
              "      <th>...</th>\n",
              "      <td>...</td>\n",
              "      <td>...</td>\n",
              "      <td>...</td>\n",
              "      <td>...</td>\n",
              "      <td>...</td>\n",
              "      <td>...</td>\n",
              "      <td>...</td>\n",
              "      <td>...</td>\n",
              "      <td>...</td>\n",
              "      <td>...</td>\n",
              "      <td>...</td>\n",
              "      <td>...</td>\n",
              "      <td>...</td>\n",
              "      <td>...</td>\n",
              "      <td>...</td>\n",
              "      <td>...</td>\n",
              "      <td>...</td>\n",
              "      <td>...</td>\n",
              "      <td>...</td>\n",
              "    </tr>\n",
              "    <tr>\n",
              "      <th>100509</th>\n",
              "      <td>NaN</td>\n",
              "      <td>NaN</td>\n",
              "      <td>NaN</td>\n",
              "      <td>NaN</td>\n",
              "      <td>NaN</td>\n",
              "      <td>NaN</td>\n",
              "      <td>NaN</td>\n",
              "      <td>NaN</td>\n",
              "      <td>NaN</td>\n",
              "      <td>NaN</td>\n",
              "      <td>NaN</td>\n",
              "      <td>NaN</td>\n",
              "      <td>NaN</td>\n",
              "      <td>NaN</td>\n",
              "      <td>NaN</td>\n",
              "      <td>NaN</td>\n",
              "      <td>NaN</td>\n",
              "      <td>NaN</td>\n",
              "      <td>NaN</td>\n",
              "    </tr>\n",
              "    <tr>\n",
              "      <th>100510</th>\n",
              "      <td>NaN</td>\n",
              "      <td>NaN</td>\n",
              "      <td>NaN</td>\n",
              "      <td>NaN</td>\n",
              "      <td>NaN</td>\n",
              "      <td>NaN</td>\n",
              "      <td>NaN</td>\n",
              "      <td>NaN</td>\n",
              "      <td>NaN</td>\n",
              "      <td>NaN</td>\n",
              "      <td>NaN</td>\n",
              "      <td>NaN</td>\n",
              "      <td>NaN</td>\n",
              "      <td>NaN</td>\n",
              "      <td>NaN</td>\n",
              "      <td>NaN</td>\n",
              "      <td>NaN</td>\n",
              "      <td>NaN</td>\n",
              "      <td>NaN</td>\n",
              "    </tr>\n",
              "    <tr>\n",
              "      <th>100511</th>\n",
              "      <td>NaN</td>\n",
              "      <td>NaN</td>\n",
              "      <td>NaN</td>\n",
              "      <td>NaN</td>\n",
              "      <td>NaN</td>\n",
              "      <td>NaN</td>\n",
              "      <td>NaN</td>\n",
              "      <td>NaN</td>\n",
              "      <td>NaN</td>\n",
              "      <td>NaN</td>\n",
              "      <td>NaN</td>\n",
              "      <td>NaN</td>\n",
              "      <td>NaN</td>\n",
              "      <td>NaN</td>\n",
              "      <td>NaN</td>\n",
              "      <td>NaN</td>\n",
              "      <td>NaN</td>\n",
              "      <td>NaN</td>\n",
              "      <td>NaN</td>\n",
              "    </tr>\n",
              "    <tr>\n",
              "      <th>100512</th>\n",
              "      <td>NaN</td>\n",
              "      <td>NaN</td>\n",
              "      <td>NaN</td>\n",
              "      <td>NaN</td>\n",
              "      <td>NaN</td>\n",
              "      <td>NaN</td>\n",
              "      <td>NaN</td>\n",
              "      <td>NaN</td>\n",
              "      <td>NaN</td>\n",
              "      <td>NaN</td>\n",
              "      <td>NaN</td>\n",
              "      <td>NaN</td>\n",
              "      <td>NaN</td>\n",
              "      <td>NaN</td>\n",
              "      <td>NaN</td>\n",
              "      <td>NaN</td>\n",
              "      <td>NaN</td>\n",
              "      <td>NaN</td>\n",
              "      <td>NaN</td>\n",
              "    </tr>\n",
              "    <tr>\n",
              "      <th>100513</th>\n",
              "      <td>NaN</td>\n",
              "      <td>NaN</td>\n",
              "      <td>NaN</td>\n",
              "      <td>NaN</td>\n",
              "      <td>NaN</td>\n",
              "      <td>NaN</td>\n",
              "      <td>NaN</td>\n",
              "      <td>NaN</td>\n",
              "      <td>NaN</td>\n",
              "      <td>NaN</td>\n",
              "      <td>NaN</td>\n",
              "      <td>NaN</td>\n",
              "      <td>NaN</td>\n",
              "      <td>NaN</td>\n",
              "      <td>NaN</td>\n",
              "      <td>NaN</td>\n",
              "      <td>NaN</td>\n",
              "      <td>NaN</td>\n",
              "      <td>NaN</td>\n",
              "    </tr>\n",
              "  </tbody>\n",
              "</table>\n",
              "<p>514 rows × 19 columns</p>\n",
              "</div>"
            ],
            "text/plain": [
              "       Loan ID Customer ID  ... Bankruptcies  Tax Liens\n",
              "100000     NaN         NaN  ...          NaN        NaN\n",
              "100001     NaN         NaN  ...          NaN        NaN\n",
              "100002     NaN         NaN  ...          NaN        NaN\n",
              "100003     NaN         NaN  ...          NaN        NaN\n",
              "100004     NaN         NaN  ...          NaN        NaN\n",
              "...        ...         ...  ...          ...        ...\n",
              "100509     NaN         NaN  ...          NaN        NaN\n",
              "100510     NaN         NaN  ...          NaN        NaN\n",
              "100511     NaN         NaN  ...          NaN        NaN\n",
              "100512     NaN         NaN  ...          NaN        NaN\n",
              "100513     NaN         NaN  ...          NaN        NaN\n",
              "\n",
              "[514 rows x 19 columns]"
            ]
          },
          "metadata": {},
          "execution_count": 100
        }
      ]
    },
    {
      "cell_type": "code",
      "metadata": {
        "id": "d0brSeljW41a"
      },
      "source": [
        ""
      ],
      "execution_count": null,
      "outputs": []
    },
    {
      "cell_type": "code",
      "metadata": {
        "id": "w-rIhwrzW41c"
      },
      "source": [
        "df=df.iloc[0:100000,:]\n",
        "df=df.iloc[:,2:]\n",
        "df.drop('Months since last delinquent',axis='columns', inplace=True)"
      ],
      "execution_count": null,
      "outputs": []
    },
    {
      "cell_type": "code",
      "metadata": {
        "id": "jrlHLd-iW41e",
        "colab": {
          "base_uri": "https://localhost:8080/",
          "height": 339
        },
        "outputId": "9634f501-ea45-4682-dd08-7a80bf1d7a73"
      },
      "source": [
        "df.head()"
      ],
      "execution_count": null,
      "outputs": [
        {
          "output_type": "execute_result",
          "data": {
            "text/html": [
              "<div>\n",
              "<style scoped>\n",
              "    .dataframe tbody tr th:only-of-type {\n",
              "        vertical-align: middle;\n",
              "    }\n",
              "\n",
              "    .dataframe tbody tr th {\n",
              "        vertical-align: top;\n",
              "    }\n",
              "\n",
              "    .dataframe thead th {\n",
              "        text-align: right;\n",
              "    }\n",
              "</style>\n",
              "<table border=\"1\" class=\"dataframe\">\n",
              "  <thead>\n",
              "    <tr style=\"text-align: right;\">\n",
              "      <th></th>\n",
              "      <th>Loan Status</th>\n",
              "      <th>Current Loan Amount</th>\n",
              "      <th>Term</th>\n",
              "      <th>Credit Score</th>\n",
              "      <th>Annual Income</th>\n",
              "      <th>Years in current job</th>\n",
              "      <th>Home Ownership</th>\n",
              "      <th>Purpose</th>\n",
              "      <th>Monthly Debt</th>\n",
              "      <th>Years of Credit History</th>\n",
              "      <th>Number of Open Accounts</th>\n",
              "      <th>Number of Credit Problems</th>\n",
              "      <th>Current Credit Balance</th>\n",
              "      <th>Maximum Open Credit</th>\n",
              "      <th>Bankruptcies</th>\n",
              "      <th>Tax Liens</th>\n",
              "    </tr>\n",
              "  </thead>\n",
              "  <tbody>\n",
              "    <tr>\n",
              "      <th>0</th>\n",
              "      <td>Fully Paid</td>\n",
              "      <td>445412.0</td>\n",
              "      <td>Short Term</td>\n",
              "      <td>709.0</td>\n",
              "      <td>1167493.0</td>\n",
              "      <td>8 years</td>\n",
              "      <td>Home Mortgage</td>\n",
              "      <td>Home Improvements</td>\n",
              "      <td>5214.74</td>\n",
              "      <td>17.2</td>\n",
              "      <td>6.0</td>\n",
              "      <td>1.0</td>\n",
              "      <td>228190.0</td>\n",
              "      <td>416746.0</td>\n",
              "      <td>1.0</td>\n",
              "      <td>0.0</td>\n",
              "    </tr>\n",
              "    <tr>\n",
              "      <th>1</th>\n",
              "      <td>Fully Paid</td>\n",
              "      <td>262328.0</td>\n",
              "      <td>Short Term</td>\n",
              "      <td>NaN</td>\n",
              "      <td>NaN</td>\n",
              "      <td>10+ years</td>\n",
              "      <td>Home Mortgage</td>\n",
              "      <td>Debt Consolidation</td>\n",
              "      <td>33295.98</td>\n",
              "      <td>21.1</td>\n",
              "      <td>35.0</td>\n",
              "      <td>0.0</td>\n",
              "      <td>229976.0</td>\n",
              "      <td>850784.0</td>\n",
              "      <td>0.0</td>\n",
              "      <td>0.0</td>\n",
              "    </tr>\n",
              "    <tr>\n",
              "      <th>2</th>\n",
              "      <td>Fully Paid</td>\n",
              "      <td>99999999.0</td>\n",
              "      <td>Short Term</td>\n",
              "      <td>741.0</td>\n",
              "      <td>2231892.0</td>\n",
              "      <td>8 years</td>\n",
              "      <td>Own Home</td>\n",
              "      <td>Debt Consolidation</td>\n",
              "      <td>29200.53</td>\n",
              "      <td>14.9</td>\n",
              "      <td>18.0</td>\n",
              "      <td>1.0</td>\n",
              "      <td>297996.0</td>\n",
              "      <td>750090.0</td>\n",
              "      <td>0.0</td>\n",
              "      <td>0.0</td>\n",
              "    </tr>\n",
              "    <tr>\n",
              "      <th>3</th>\n",
              "      <td>Fully Paid</td>\n",
              "      <td>347666.0</td>\n",
              "      <td>Long Term</td>\n",
              "      <td>721.0</td>\n",
              "      <td>806949.0</td>\n",
              "      <td>3 years</td>\n",
              "      <td>Own Home</td>\n",
              "      <td>Debt Consolidation</td>\n",
              "      <td>8741.90</td>\n",
              "      <td>12.0</td>\n",
              "      <td>9.0</td>\n",
              "      <td>0.0</td>\n",
              "      <td>256329.0</td>\n",
              "      <td>386958.0</td>\n",
              "      <td>0.0</td>\n",
              "      <td>0.0</td>\n",
              "    </tr>\n",
              "    <tr>\n",
              "      <th>4</th>\n",
              "      <td>Fully Paid</td>\n",
              "      <td>176220.0</td>\n",
              "      <td>Short Term</td>\n",
              "      <td>NaN</td>\n",
              "      <td>NaN</td>\n",
              "      <td>5 years</td>\n",
              "      <td>Rent</td>\n",
              "      <td>Debt Consolidation</td>\n",
              "      <td>20639.70</td>\n",
              "      <td>6.1</td>\n",
              "      <td>15.0</td>\n",
              "      <td>0.0</td>\n",
              "      <td>253460.0</td>\n",
              "      <td>427174.0</td>\n",
              "      <td>0.0</td>\n",
              "      <td>0.0</td>\n",
              "    </tr>\n",
              "  </tbody>\n",
              "</table>\n",
              "</div>"
            ],
            "text/plain": [
              "  Loan Status  Current Loan Amount  ... Bankruptcies  Tax Liens\n",
              "0  Fully Paid             445412.0  ...          1.0        0.0\n",
              "1  Fully Paid             262328.0  ...          0.0        0.0\n",
              "2  Fully Paid           99999999.0  ...          0.0        0.0\n",
              "3  Fully Paid             347666.0  ...          0.0        0.0\n",
              "4  Fully Paid             176220.0  ...          0.0        0.0\n",
              "\n",
              "[5 rows x 16 columns]"
            ]
          },
          "metadata": {},
          "execution_count": 102
        }
      ]
    },
    {
      "cell_type": "code",
      "metadata": {
        "id": "DfXQOsXrW41h",
        "colab": {
          "base_uri": "https://localhost:8080/"
        },
        "outputId": "de2541aa-17c2-4e2d-a44b-e73318d34d16"
      },
      "source": [
        "df.columns"
      ],
      "execution_count": null,
      "outputs": [
        {
          "output_type": "execute_result",
          "data": {
            "text/plain": [
              "Index(['Loan Status', 'Current Loan Amount', 'Term', 'Credit Score',\n",
              "       'Annual Income', 'Years in current job', 'Home Ownership', 'Purpose',\n",
              "       'Monthly Debt', 'Years of Credit History', 'Number of Open Accounts',\n",
              "       'Number of Credit Problems', 'Current Credit Balance',\n",
              "       'Maximum Open Credit', 'Bankruptcies', 'Tax Liens'],\n",
              "      dtype='object')"
            ]
          },
          "metadata": {},
          "execution_count": 103
        }
      ]
    },
    {
      "cell_type": "code",
      "metadata": {
        "id": "49OXNT8OW41i",
        "colab": {
          "base_uri": "https://localhost:8080/",
          "height": 297
        },
        "outputId": "00243e45-442d-4cb3-8408-87bdf2dbf747"
      },
      "source": [
        "sns.boxplot(x=df['Annual Income'])"
      ],
      "execution_count": null,
      "outputs": [
        {
          "output_type": "execute_result",
          "data": {
            "text/plain": [
              "<matplotlib.axes._subplots.AxesSubplot at 0x7f2931b06950>"
            ]
          },
          "metadata": {},
          "execution_count": 104
        },
        {
          "output_type": "display_data",
          "data": {
            "image/png": "[encoded data removed]",
            "text/plain": [
              "<Figure size 432x288 with 1 Axes>"
            ]
          },
          "metadata": {
            "needs_background": "light"
          }
        }
      ]
    },
    {
      "cell_type": "code",
      "metadata": {
        "id": "Iw0gH-U4W41k",
        "colab": {
          "base_uri": "https://localhost:8080/",
          "height": 297
        },
        "outputId": "66f63a4b-afe3-4dc9-ad58-2271464aff96"
      },
      "source": [
        "sns.boxplot(x=df['Current Loan Amount'])"
      ],
      "execution_count": null,
      "outputs": [
        {
          "output_type": "execute_result",
          "data": {
            "text/plain": [
              "<matplotlib.axes._subplots.AxesSubplot at 0x7f29324cd350>"
            ]
          },
          "metadata": {},
          "execution_count": 105
        },
        {
          "output_type": "display_data",
          "data": {
            "image/png": "[encoded data removed]",
            "text/plain": [
              "<Figure size 432x288 with 1 Axes>"
            ]
          },
          "metadata": {
            "needs_background": "light"
          }
        }
      ]
    },
    {
      "cell_type": "code",
      "metadata": {
        "scrolled": false,
        "id": "axiE5ZWmW41m",
        "colab": {
          "base_uri": "https://localhost:8080/",
          "height": 1000
        },
        "outputId": "018d89f3-a0b7-44c4-db0c-e0663f91eb31"
      },
      "source": [
        "columns=df.columns\n",
        "cat=['Loan Status',\n",
        "'Years in current job',\n",
        " 'Home Ownership',\n",
        " 'Purpose',\n",
        " 'Term']\n",
        "# for column in columns:\n",
        "\n",
        "for column in columns:\n",
        "    if column not in cat:\n",
        "        plt.figure(figsize=(7,5))\n",
        "        plt.ticklabel_format(style='plain')\n",
        "        df.boxplot([column],grid=False,)"
      ],
      "execution_count": null,
      "outputs": [
        {
          "output_type": "display_data",
          "data": {
            "image/png": "[encoded data removed]",
            "text/plain": [
              "<Figure size 504x360 with 1 Axes>"
            ]
          },
          "metadata": {
            "needs_background": "light"
          }
        },
        {
          "output_type": "display_data",
          "data": {
            "image/png": "[encoded data removed]",
            "text/plain": [
              "<Figure size 504x360 with 1 Axes>"
            ]
          },
          "metadata": {
            "needs_background": "light"
          }
        },
        {
          "output_type": "display_data",
          "data": {
            "image/png": "[encoded data removed]",
            "text/plain": [
              "<Figure size 504x360 with 1 Axes>"
            ]
          },
          "metadata": {
            "needs_background": "light"
          }
        },
        {
          "output_type": "display_data",
          "data": {
            "image/png": "[encoded data removed]",
            "text/plain": [
              "<Figure size 504x360 with 1 Axes>"
            ]
          },
          "metadata": {
            "needs_background": "light"
          }
        },
        {
          "output_type": "display_data",
          "data": {
            "image/png": "[encoded data removed]",
            "text/plain": [
              "<Figure size 504x360 with 1 Axes>"
            ]
          },
          "metadata": {
            "needs_background": "light"
          }
        },
        {
          "output_type": "display_data",
          "data": {
            "image/png": "[encoded data removed]",
            "text/plain": [
              "<Figure size 504x360 with 1 Axes>"
            ]
          },
          "metadata": {
            "needs_background": "light"
          }
        },
        {
          "output_type": "display_data",
          "data": {
            "image/png": "[encoded data removed]",
            "text/plain": [
              "<Figure size 504x360 with 1 Axes>"
            ]
          },
          "metadata": {
            "needs_background": "light"
          }
        },
        {
          "output_type": "display_data",
          "data": {
            "image/png": "[encoded data removed]",
            "text/plain": [
              "<Figure size 504x360 with 1 Axes>"
            ]
          },
          "metadata": {
            "needs_background": "light"
          }
        },
        {
          "output_type": "display_data",
          "data": {
            "image/png": "[encoded data removed]",
            "text/plain": [
              "<Figure size 504x360 with 1 Axes>"
            ]
          },
          "metadata": {
            "needs_background": "light"
          }
        },
        {
          "output_type": "display_data",
          "data": {
            "image/png": "[encoded data removed]",
            "text/plain": [
              "<Figure size 504x360 with 1 Axes>"
            ]
          },
          "metadata": {
            "needs_background": "light"
          }
        },
        {
          "output_type": "display_data",
          "data": {
            "image/png": "[encoded data removed]",
            "text/plain": [
              "<Figure size 504x360 with 1 Axes>"
            ]
          },
          "metadata": {
            "needs_background": "light"
          }
        }
      ]
    },
    {
      "cell_type": "code",
      "metadata": {
        "scrolled": false,
        "id": "uAVy6yjBW41o",
        "colab": {
          "base_uri": "https://localhost:8080/",
          "height": 1000
        },
        "outputId": "6bcd5ff3-94ff-4f48-b6e8-4e36069677f9"
      },
      "source": [
        "for column in columns:\n",
        "    if column not in cat:\n",
        "        fig,ax=plt.subplots(2)\n",
        "\n",
        "#         plt.figure(figsize=(7,5))\n",
        "#         plt.ticklabel_format(style='plain')\n",
        "#         df.boxplot([column],grid=False,)\n",
        "#         plt.title(column)\n",
        "        fig.suptitle(column)\n",
        "\n",
        "        ax[0].hist(df[df[\"Loan Status\"]==\"Charged Off\"][column])\n",
        "        ax[1].hist(df[df[\"Loan Status\"]==\"Fully Paid\"][column])"
      ],
      "execution_count": null,
      "outputs": [
        {
          "output_type": "display_data",
          "data": {
            "image/png": "[encoded data removed]",
            "text/plain": [
              "<Figure size 432x288 with 2 Axes>"
            ]
          },
          "metadata": {
            "needs_background": "light"
          }
        },
        {
          "output_type": "display_data",
          "data": {
            "image/png": "[encoded data removed]",
            "text/plain": [
              "<Figure size 432x288 with 2 Axes>"
            ]
          },
          "metadata": {
            "needs_background": "light"
          }
        },
        {
          "output_type": "display_data",
          "data": {
            "image/png": "[encoded data removed]",
            "text/plain": [
              "<Figure size 432x288 with 2 Axes>"
            ]
          },
          "metadata": {
            "needs_background": "light"
          }
        },
        {
          "output_type": "display_data",
          "data": {
            "image/png": "[encoded data removed]",
            "text/plain": [
              "<Figure size 432x288 with 2 Axes>"
            ]
          },
          "metadata": {
            "needs_background": "light"
          }
        },
        {
          "output_type": "display_data",
          "data": {
            "image/png": "[encoded data removed]",
            "text/plain": [
              "<Figure size 432x288 with 2 Axes>"
            ]
          },
          "metadata": {
            "needs_background": "light"
          }
        },
        {
          "output_type": "display_data",
          "data": {
            "image/png": "[encoded data removed]",
            "text/plain": [
              "<Figure size 432x288 with 2 Axes>"
            ]
          },
          "metadata": {
            "needs_background": "light"
          }
        },
        {
          "output_type": "display_data",
          "data": {
            "image/png": "[encoded data removed]",
            "text/plain": [
              "<Figure size 432x288 with 2 Axes>"
            ]
          },
          "metadata": {
            "needs_background": "light"
          }
        },
        {
          "output_type": "display_data",
          "data": {
            "image/png": "[encoded data removed]",
            "text/plain": [
              "<Figure size 432x288 with 2 Axes>"
            ]
          },
          "metadata": {
            "needs_background": "light"
          }
        },
        {
          "output_type": "display_data",
          "data": {
            "image/png": "[encoded data removed]",
            "text/plain": [
              "<Figure size 432x288 with 2 Axes>"
            ]
          },
          "metadata": {
            "needs_background": "light"
          }
        },
        {
          "output_type": "display_data",
          "data": {
            "image/png": "[encoded data removed]",
            "text/plain": [
              "<Figure size 432x288 with 2 Axes>"
            ]
          },
          "metadata": {
            "needs_background": "light"
          }
        },
        {
          "output_type": "display_data",
          "data": {
            "image/png": "[encoded data removed]",
            "text/plain": [
              "<Figure size 432x288 with 2 Axes>"
            ]
          },
          "metadata": {
            "needs_background": "light"
          }
        }
      ]
    },
    {
      "cell_type": "code",
      "metadata": {
        "id": "Ui_uhdRZW41p"
      },
      "source": [
        "# df.drop(index=df[df[\"Current Loan Amount\"]>=800000].index,inplace=True)\n"
      ],
      "execution_count": null,
      "outputs": []
    },
    {
      "cell_type": "code",
      "metadata": {
        "id": "Es3fcm9sW41p"
      },
      "source": [
        "df.drop('Tax Liens',axis='columns', inplace=True)"
      ],
      "execution_count": null,
      "outputs": []
    },
    {
      "cell_type": "code",
      "metadata": {
        "id": "JDESHCrgW41v"
      },
      "source": [
        "# df.drop(df[df['Current Loan Amount'] == 99999999.0].index, inplace = True)\n"
      ],
      "execution_count": null,
      "outputs": []
    },
    {
      "cell_type": "code",
      "metadata": {
        "id": "Re8rNfwpW41w",
        "colab": {
          "base_uri": "https://localhost:8080/",
          "height": 322
        },
        "outputId": "5402ef90-f095-4564-9ca0-25aee1afe4e4"
      },
      "source": [
        "df.head()"
      ],
      "execution_count": null,
      "outputs": [
        {
          "output_type": "execute_result",
          "data": {
            "text/html": [
              "<div>\n",
              "<style scoped>\n",
              "    .dataframe tbody tr th:only-of-type {\n",
              "        vertical-align: middle;\n",
              "    }\n",
              "\n",
              "    .dataframe tbody tr th {\n",
              "        vertical-align: top;\n",
              "    }\n",
              "\n",
              "    .dataframe thead th {\n",
              "        text-align: right;\n",
              "    }\n",
              "</style>\n",
              "<table border=\"1\" class=\"dataframe\">\n",
              "  <thead>\n",
              "    <tr style=\"text-align: right;\">\n",
              "      <th></th>\n",
              "      <th>Loan Status</th>\n",
              "      <th>Current Loan Amount</th>\n",
              "      <th>Term</th>\n",
              "      <th>Credit Score</th>\n",
              "      <th>Annual Income</th>\n",
              "      <th>Years in current job</th>\n",
              "      <th>Home Ownership</th>\n",
              "      <th>Purpose</th>\n",
              "      <th>Monthly Debt</th>\n",
              "      <th>Years of Credit History</th>\n",
              "      <th>Number of Open Accounts</th>\n",
              "      <th>Number of Credit Problems</th>\n",
              "      <th>Current Credit Balance</th>\n",
              "      <th>Maximum Open Credit</th>\n",
              "      <th>Bankruptcies</th>\n",
              "    </tr>\n",
              "  </thead>\n",
              "  <tbody>\n",
              "    <tr>\n",
              "      <th>0</th>\n",
              "      <td>Fully Paid</td>\n",
              "      <td>445412.0</td>\n",
              "      <td>Short Term</td>\n",
              "      <td>709.0</td>\n",
              "      <td>1167493.0</td>\n",
              "      <td>8 years</td>\n",
              "      <td>Home Mortgage</td>\n",
              "      <td>Home Improvements</td>\n",
              "      <td>5214.74</td>\n",
              "      <td>17.2</td>\n",
              "      <td>6.0</td>\n",
              "      <td>1.0</td>\n",
              "      <td>228190.0</td>\n",
              "      <td>416746.0</td>\n",
              "      <td>1.0</td>\n",
              "    </tr>\n",
              "    <tr>\n",
              "      <th>1</th>\n",
              "      <td>Fully Paid</td>\n",
              "      <td>262328.0</td>\n",
              "      <td>Short Term</td>\n",
              "      <td>NaN</td>\n",
              "      <td>NaN</td>\n",
              "      <td>10+ years</td>\n",
              "      <td>Home Mortgage</td>\n",
              "      <td>Debt Consolidation</td>\n",
              "      <td>33295.98</td>\n",
              "      <td>21.1</td>\n",
              "      <td>35.0</td>\n",
              "      <td>0.0</td>\n",
              "      <td>229976.0</td>\n",
              "      <td>850784.0</td>\n",
              "      <td>0.0</td>\n",
              "    </tr>\n",
              "    <tr>\n",
              "      <th>2</th>\n",
              "      <td>Fully Paid</td>\n",
              "      <td>99999999.0</td>\n",
              "      <td>Short Term</td>\n",
              "      <td>741.0</td>\n",
              "      <td>2231892.0</td>\n",
              "      <td>8 years</td>\n",
              "      <td>Own Home</td>\n",
              "      <td>Debt Consolidation</td>\n",
              "      <td>29200.53</td>\n",
              "      <td>14.9</td>\n",
              "      <td>18.0</td>\n",
              "      <td>1.0</td>\n",
              "      <td>297996.0</td>\n",
              "      <td>750090.0</td>\n",
              "      <td>0.0</td>\n",
              "    </tr>\n",
              "    <tr>\n",
              "      <th>3</th>\n",
              "      <td>Fully Paid</td>\n",
              "      <td>347666.0</td>\n",
              "      <td>Long Term</td>\n",
              "      <td>721.0</td>\n",
              "      <td>806949.0</td>\n",
              "      <td>3 years</td>\n",
              "      <td>Own Home</td>\n",
              "      <td>Debt Consolidation</td>\n",
              "      <td>8741.90</td>\n",
              "      <td>12.0</td>\n",
              "      <td>9.0</td>\n",
              "      <td>0.0</td>\n",
              "      <td>256329.0</td>\n",
              "      <td>386958.0</td>\n",
              "      <td>0.0</td>\n",
              "    </tr>\n",
              "    <tr>\n",
              "      <th>4</th>\n",
              "      <td>Fully Paid</td>\n",
              "      <td>176220.0</td>\n",
              "      <td>Short Term</td>\n",
              "      <td>NaN</td>\n",
              "      <td>NaN</td>\n",
              "      <td>5 years</td>\n",
              "      <td>Rent</td>\n",
              "      <td>Debt Consolidation</td>\n",
              "      <td>20639.70</td>\n",
              "      <td>6.1</td>\n",
              "      <td>15.0</td>\n",
              "      <td>0.0</td>\n",
              "      <td>253460.0</td>\n",
              "      <td>427174.0</td>\n",
              "      <td>0.0</td>\n",
              "    </tr>\n",
              "  </tbody>\n",
              "</table>\n",
              "</div>"
            ],
            "text/plain": [
              "  Loan Status  Current Loan Amount  ... Maximum Open Credit  Bankruptcies\n",
              "0  Fully Paid             445412.0  ...            416746.0           1.0\n",
              "1  Fully Paid             262328.0  ...            850784.0           0.0\n",
              "2  Fully Paid           99999999.0  ...            750090.0           0.0\n",
              "3  Fully Paid             347666.0  ...            386958.0           0.0\n",
              "4  Fully Paid             176220.0  ...            427174.0           0.0\n",
              "\n",
              "[5 rows x 15 columns]"
            ]
          },
          "metadata": {},
          "execution_count": 111
        }
      ]
    },
    {
      "cell_type": "code",
      "metadata": {
        "id": "YRYcsumOW41x"
      },
      "source": [
        "df.drop(index=df[df[\"Annual Income\"]/10**5>=150].index,inplace=True)\n",
        "\n",
        "df.describe()"
      ],
      "execution_count": null,
      "outputs": []
    },
    {
      "cell_type": "code",
      "metadata": {
        "id": "HNDFwQlBW41y"
      },
      "source": [
        ""
      ],
      "execution_count": null,
      "outputs": []
    },
    {
      "cell_type": "code",
      "metadata": {
        "id": "me2iAEAwW41y",
        "colab": {
          "base_uri": "https://localhost:8080/",
          "height": 353
        },
        "outputId": "b9c42904-4055-4962-d521-cbb4ea07684a"
      },
      "source": [
        "sns.countplot(df['Loan Status'])"
      ],
      "execution_count": null,
      "outputs": [
        {
          "output_type": "stream",
          "name": "stderr",
          "text": [
            "/usr/local/lib/python3.7/dist-packages/seaborn/_decorators.py:43: FutureWarning: Pass the following variable as a keyword arg: x. From version 0.12, the only valid positional argument will be `data`, and passing other arguments without an explicit keyword will result in an error or misinterpretation.\n",
            "  FutureWarning\n"
          ]
        },
        {
          "output_type": "execute_result",
          "data": {
            "text/plain": [
              "<matplotlib.axes._subplots.AxesSubplot at 0x7f2932074050>"
            ]
          },
          "metadata": {},
          "execution_count": 113
        },
        {
          "output_type": "display_data",
          "data": {
            "image/png": "[encoded data removed]",
            "text/plain": [
              "<Figure size 432x288 with 1 Axes>"
            ]
          },
          "metadata": {
            "needs_background": "light"
          }
        }
      ]
    },
    {
      "cell_type": "code",
      "metadata": {
        "id": "TxI_J8MGW41z",
        "colab": {
          "base_uri": "https://localhost:8080/",
          "height": 456
        },
        "outputId": "ab8cb850-ce67-4a02-f2e6-10a317def862"
      },
      "source": [
        "plt.hist(df['Current Loan Amount'],bins=20,)"
      ],
      "execution_count": null,
      "outputs": [
        {
          "output_type": "execute_result",
          "data": {
            "text/plain": [
              "(array([88501.,     0.,     0.,     0.,     0.,     0.,     0.,     0.,\n",
              "            0.,     0.,     0.,     0.,     0.,     0.,     0.,     0.,\n",
              "            0.,     0.,     0., 11480.]),\n",
              " array([1.08020000e+04, 5.01026185e+06, 1.00097217e+07, 1.50091815e+07,\n",
              "        2.00086414e+07, 2.50081012e+07, 3.00075611e+07, 3.50070209e+07,\n",
              "        4.00064808e+07, 4.50059406e+07, 5.00054005e+07, 5.50048603e+07,\n",
              "        6.00043202e+07, 6.50037800e+07, 7.00032399e+07, 7.50026998e+07,\n",
              "        8.00021596e+07, 8.50016194e+07, 9.00010793e+07, 9.50005391e+07,\n",
              "        9.99999990e+07]),\n",
              " <a list of 20 Patch objects>)"
            ]
          },
          "metadata": {},
          "execution_count": 114
        },
        {
          "output_type": "display_data",
          "data": {
            "image/png": "[encoded data removed]",
            "text/plain": [
              "<Figure size 432x288 with 1 Axes>"
            ]
          },
          "metadata": {
            "needs_background": "light"
          }
        }
      ]
    },
    {
      "cell_type": "code",
      "metadata": {
        "id": "3KU9MvJSW41z",
        "colab": {
          "base_uri": "https://localhost:8080/"
        },
        "outputId": "e890ed05-807d-4fd3-9deb-c82b523a86e4"
      },
      "source": [
        "df.columns"
      ],
      "execution_count": null,
      "outputs": [
        {
          "output_type": "execute_result",
          "data": {
            "text/plain": [
              "Index(['Loan Status', 'Current Loan Amount', 'Term', 'Credit Score',\n",
              "       'Annual Income', 'Years in current job', 'Home Ownership', 'Purpose',\n",
              "       'Monthly Debt', 'Years of Credit History', 'Number of Open Accounts',\n",
              "       'Number of Credit Problems', 'Current Credit Balance',\n",
              "       'Maximum Open Credit', 'Bankruptcies'],\n",
              "      dtype='object')"
            ]
          },
          "metadata": {},
          "execution_count": 115
        }
      ]
    },
    {
      "cell_type": "code",
      "metadata": {
        "id": "MpqriKuYW410"
      },
      "source": [
        ""
      ],
      "execution_count": null,
      "outputs": []
    },
    {
      "cell_type": "markdown",
      "metadata": {
        "id": "urvcYYpIW410"
      },
      "source": [
        "# Fill missing values with median"
      ]
    },
    {
      "cell_type": "code",
      "metadata": {
        "id": "X3Vp7l5gW411"
      },
      "source": [
        "df['Credit Score'].fillna(df['Credit Score'].median(), inplace=True)\n",
        "df['Annual Income'].fillna(df['Annual Income'].median(), inplace=True)\n",
        "\n",
        "df['Maximum Open Credit'].fillna(df['Maximum Open Credit'].median(), inplace=True)\n",
        "df['Bankruptcies'].fillna(df['Bankruptcies'].median(), inplace=True)\n",
        "# df['Tax Liens'].fillna(df['Tax Liens'].median(), inplace=True)"
      ],
      "execution_count": null,
      "outputs": []
    },
    {
      "cell_type": "code",
      "metadata": {
        "id": "gR-zqVcrW411",
        "colab": {
          "base_uri": "https://localhost:8080/"
        },
        "outputId": "741f08df-b80e-4091-dc0f-f0fb4fb609bd"
      },
      "source": [
        "df.head()"
      ],
      "execution_count": null,
      "outputs": [
        {
          "output_type": "execute_result",
          "data": {
            "text/html": [
              "<div>\n",
              "<style scoped>\n",
              "    .dataframe tbody tr th:only-of-type {\n",
              "        vertical-align: middle;\n",
              "    }\n",
              "\n",
              "    .dataframe tbody tr th {\n",
              "        vertical-align: top;\n",
              "    }\n",
              "\n",
              "    .dataframe thead th {\n",
              "        text-align: right;\n",
              "    }\n",
              "</style>\n",
              "<table border=\"1\" class=\"dataframe\">\n",
              "  <thead>\n",
              "    <tr style=\"text-align: right;\">\n",
              "      <th></th>\n",
              "      <th>Loan Status</th>\n",
              "      <th>Current Loan Amount</th>\n",
              "      <th>Term</th>\n",
              "      <th>Credit Score</th>\n",
              "      <th>Annual Income</th>\n",
              "      <th>Years in current job</th>\n",
              "      <th>Home Ownership</th>\n",
              "      <th>Purpose</th>\n",
              "      <th>Monthly Debt</th>\n",
              "      <th>Years of Credit History</th>\n",
              "      <th>Number of Open Accounts</th>\n",
              "      <th>Number of Credit Problems</th>\n",
              "      <th>Current Credit Balance</th>\n",
              "      <th>Maximum Open Credit</th>\n",
              "      <th>Bankruptcies</th>\n",
              "    </tr>\n",
              "  </thead>\n",
              "  <tbody>\n",
              "    <tr>\n",
              "      <th>0</th>\n",
              "      <td>Fully Paid</td>\n",
              "      <td>445412.0</td>\n",
              "      <td>Short Term</td>\n",
              "      <td>709.0</td>\n",
              "      <td>1167493.0</td>\n",
              "      <td>8 years</td>\n",
              "      <td>Home Mortgage</td>\n",
              "      <td>Home Improvements</td>\n",
              "      <td>5214.74</td>\n",
              "      <td>17.2</td>\n",
              "      <td>6.0</td>\n",
              "      <td>1.0</td>\n",
              "      <td>228190.0</td>\n",
              "      <td>416746.0</td>\n",
              "      <td>1.0</td>\n",
              "    </tr>\n",
              "    <tr>\n",
              "      <th>1</th>\n",
              "      <td>Fully Paid</td>\n",
              "      <td>262328.0</td>\n",
              "      <td>Short Term</td>\n",
              "      <td>724.0</td>\n",
              "      <td>1173972.0</td>\n",
              "      <td>10+ years</td>\n",
              "      <td>Home Mortgage</td>\n",
              "      <td>Debt Consolidation</td>\n",
              "      <td>33295.98</td>\n",
              "      <td>21.1</td>\n",
              "      <td>35.0</td>\n",
              "      <td>0.0</td>\n",
              "      <td>229976.0</td>\n",
              "      <td>850784.0</td>\n",
              "      <td>0.0</td>\n",
              "    </tr>\n",
              "    <tr>\n",
              "      <th>2</th>\n",
              "      <td>Fully Paid</td>\n",
              "      <td>99999999.0</td>\n",
              "      <td>Short Term</td>\n",
              "      <td>741.0</td>\n",
              "      <td>2231892.0</td>\n",
              "      <td>8 years</td>\n",
              "      <td>Own Home</td>\n",
              "      <td>Debt Consolidation</td>\n",
              "      <td>29200.53</td>\n",
              "      <td>14.9</td>\n",
              "      <td>18.0</td>\n",
              "      <td>1.0</td>\n",
              "      <td>297996.0</td>\n",
              "      <td>750090.0</td>\n",
              "      <td>0.0</td>\n",
              "    </tr>\n",
              "    <tr>\n",
              "      <th>3</th>\n",
              "      <td>Fully Paid</td>\n",
              "      <td>347666.0</td>\n",
              "      <td>Long Term</td>\n",
              "      <td>721.0</td>\n",
              "      <td>806949.0</td>\n",
              "      <td>3 years</td>\n",
              "      <td>Own Home</td>\n",
              "      <td>Debt Consolidation</td>\n",
              "      <td>8741.90</td>\n",
              "      <td>12.0</td>\n",
              "      <td>9.0</td>\n",
              "      <td>0.0</td>\n",
              "      <td>256329.0</td>\n",
              "      <td>386958.0</td>\n",
              "      <td>0.0</td>\n",
              "    </tr>\n",
              "    <tr>\n",
              "      <th>4</th>\n",
              "      <td>Fully Paid</td>\n",
              "      <td>176220.0</td>\n",
              "      <td>Short Term</td>\n",
              "      <td>724.0</td>\n",
              "      <td>1173972.0</td>\n",
              "      <td>5 years</td>\n",
              "      <td>Rent</td>\n",
              "      <td>Debt Consolidation</td>\n",
              "      <td>20639.70</td>\n",
              "      <td>6.1</td>\n",
              "      <td>15.0</td>\n",
              "      <td>0.0</td>\n",
              "      <td>253460.0</td>\n",
              "      <td>427174.0</td>\n",
              "      <td>0.0</td>\n",
              "    </tr>\n",
              "  </tbody>\n",
              "</table>\n",
              "</div>"
            ],
            "text/plain": [
              "  Loan Status  Current Loan Amount  ... Maximum Open Credit  Bankruptcies\n",
              "0  Fully Paid             445412.0  ...            416746.0           1.0\n",
              "1  Fully Paid             262328.0  ...            850784.0           0.0\n",
              "2  Fully Paid           99999999.0  ...            750090.0           0.0\n",
              "3  Fully Paid             347666.0  ...            386958.0           0.0\n",
              "4  Fully Paid             176220.0  ...            427174.0           0.0\n",
              "\n",
              "[5 rows x 15 columns]"
            ]
          },
          "metadata": {},
          "execution_count": 117
        }
      ]
    },
    {
      "cell_type": "code",
      "metadata": {
        "id": "4eTd4O1oW412",
        "colab": {
          "base_uri": "https://localhost:8080/"
        },
        "outputId": "a909d653-42d1-426b-b12b-e0bb24dc291e"
      },
      "source": [
        "df.info()"
      ],
      "execution_count": null,
      "outputs": [
        {
          "output_type": "stream",
          "name": "stdout",
          "text": [
            "<class 'pandas.core.frame.DataFrame'>\n",
            "Int64Index: 99981 entries, 0 to 99999\n",
            "Data columns (total 15 columns):\n",
            " #   Column                     Non-Null Count  Dtype  \n",
            "---  ------                     --------------  -----  \n",
            " 0   Loan Status                99981 non-null  object \n",
            " 1   Current Loan Amount        99981 non-null  float64\n",
            " 2   Term                       99981 non-null  object \n",
            " 3   Credit Score               99981 non-null  float64\n",
            " 4   Annual Income              99981 non-null  float64\n",
            " 5   Years in current job       95759 non-null  object \n",
            " 6   Home Ownership             99981 non-null  object \n",
            " 7   Purpose                    99981 non-null  object \n",
            " 8   Monthly Debt               99981 non-null  float64\n",
            " 9   Years of Credit History    99981 non-null  float64\n",
            " 10  Number of Open Accounts    99981 non-null  float64\n",
            " 11  Number of Credit Problems  99981 non-null  float64\n",
            " 12  Current Credit Balance     99981 non-null  float64\n",
            " 13  Maximum Open Credit        99981 non-null  float64\n",
            " 14  Bankruptcies               99981 non-null  float64\n",
            "dtypes: float64(10), object(5)\n",
            "memory usage: 14.7+ MB\n"
          ]
        }
      ]
    },
    {
      "cell_type": "code",
      "metadata": {
        "id": "qnHmE87mW413",
        "colab": {
          "base_uri": "https://localhost:8080/"
        },
        "outputId": "152dcd02-013e-4378-bcc5-98d773ebb203"
      },
      "source": [
        "df['Years in current job'].value_counts()"
      ],
      "execution_count": null,
      "outputs": [
        {
          "output_type": "execute_result",
          "data": {
            "text/plain": [
              "10+ years    31110\n",
              "2 years       9133\n",
              "3 years       8169\n",
              "< 1 year      8163\n",
              "5 years       6786\n",
              "1 year        6459\n",
              "4 years       6143\n",
              "6 years       5685\n",
              "7 years       5577\n",
              "8 years       4580\n",
              "9 years       3954\n",
              "Name: Years in current job, dtype: int64"
            ]
          },
          "metadata": {},
          "execution_count": 119
        }
      ]
    },
    {
      "cell_type": "code",
      "metadata": {
        "id": "ZCcSa5LBW413",
        "colab": {
          "base_uri": "https://localhost:8080/"
        },
        "outputId": "f841cb61-9f5a-4664-8b04-2c8a497b5ef9"
      },
      "source": [
        "df['Home Ownership'].value_counts()"
      ],
      "execution_count": null,
      "outputs": [
        {
          "output_type": "execute_result",
          "data": {
            "text/plain": [
              "Home Mortgage    48401\n",
              "Rent             42188\n",
              "Own Home          9178\n",
              "HaveMortgage       214\n",
              "Name: Home Ownership, dtype: int64"
            ]
          },
          "metadata": {},
          "execution_count": 120
        }
      ]
    },
    {
      "cell_type": "code",
      "metadata": {
        "id": "x9SP08dnW414",
        "colab": {
          "base_uri": "https://localhost:8080/"
        },
        "outputId": "ee7dcbf3-7460-4349-e87a-c9f717c0dfde"
      },
      "source": [
        "df['Purpose'].value_counts()"
      ],
      "execution_count": null,
      "outputs": [
        {
          "output_type": "execute_result",
          "data": {
            "text/plain": [
              "Debt Consolidation      78540\n",
              "other                    6034\n",
              "Home Improvements        5837\n",
              "Other                    3249\n",
              "Business Loan            1569\n",
              "Buy a Car                1265\n",
              "Medical Bills            1127\n",
              "Buy House                 678\n",
              "Take a Trip               573\n",
              "major_purchase            352\n",
              "small_business            283\n",
              "moving                    149\n",
              "wedding                   115\n",
              "vacation                  101\n",
              "Educational Expenses       99\n",
              "renewable_energy           10\n",
              "Name: Purpose, dtype: int64"
            ]
          },
          "metadata": {},
          "execution_count": 121
        }
      ]
    },
    {
      "cell_type": "code",
      "metadata": {
        "id": "nmf42umEW415",
        "colab": {
          "base_uri": "https://localhost:8080/"
        },
        "outputId": "73db73de-dff3-4bc2-eb74-81e1950f74ed"
      },
      "source": [
        "df['Term'].value_counts()"
      ],
      "execution_count": null,
      "outputs": [
        {
          "output_type": "execute_result",
          "data": {
            "text/plain": [
              "Short Term    72194\n",
              "Long Term     27787\n",
              "Name: Term, dtype: int64"
            ]
          },
          "metadata": {},
          "execution_count": 122
        }
      ]
    },
    {
      "cell_type": "code",
      "metadata": {
        "id": "euc3E-yYW415",
        "colab": {
          "base_uri": "https://localhost:8080/"
        },
        "outputId": "4e80c65f-7217-4f6e-a338-62c43d091345"
      },
      "source": [
        "df['Loan Status'].value_counts()"
      ],
      "execution_count": null,
      "outputs": [
        {
          "output_type": "execute_result",
          "data": {
            "text/plain": [
              "Fully Paid     77346\n",
              "Charged Off    22635\n",
              "Name: Loan Status, dtype: int64"
            ]
          },
          "metadata": {},
          "execution_count": 123
        }
      ]
    },
    {
      "cell_type": "markdown",
      "metadata": {
        "id": "tej1r65uW416"
      },
      "source": [
        "# One hot encoding and label encoding"
      ]
    },
    {
      "cell_type": "code",
      "metadata": {
        "id": "tDsLuhIUW416",
        "colab": {
          "base_uri": "https://localhost:8080/"
        },
        "outputId": "9c15d9bc-b69b-483f-8706-1fe22cce89a6"
      },
      "source": [
        "df.Purpose.value_counts().sort_values(ascending=False)"
      ],
      "execution_count": null,
      "outputs": [
        {
          "output_type": "execute_result",
          "data": {
            "text/plain": [
              "Debt Consolidation      78540\n",
              "other                    6034\n",
              "Home Improvements        5837\n",
              "Other                    3249\n",
              "Business Loan            1569\n",
              "Buy a Car                1265\n",
              "Medical Bills            1127\n",
              "Buy House                 678\n",
              "Take a Trip               573\n",
              "major_purchase            352\n",
              "small_business            283\n",
              "moving                    149\n",
              "wedding                   115\n",
              "vacation                  101\n",
              "Educational Expenses       99\n",
              "renewable_energy           10\n",
              "Name: Purpose, dtype: int64"
            ]
          },
          "metadata": {},
          "execution_count": 124
        }
      ]
    },
    {
      "cell_type": "code",
      "metadata": {
        "id": "2gYtUP3wW417",
        "colab": {
          "base_uri": "https://localhost:8080/"
        },
        "outputId": "b294721e-8792-43d8-af5f-60de9f8a67e7"
      },
      "source": [
        "df['Home Ownership'].value_counts().sort_values(ascending=False)"
      ],
      "execution_count": null,
      "outputs": [
        {
          "output_type": "execute_result",
          "data": {
            "text/plain": [
              "Home Mortgage    48401\n",
              "Rent             42188\n",
              "Own Home          9178\n",
              "HaveMortgage       214\n",
              "Name: Home Ownership, dtype: int64"
            ]
          },
          "metadata": {},
          "execution_count": 125
        }
      ]
    },
    {
      "cell_type": "code",
      "metadata": {
        "id": "ZeZr8-8rW418"
      },
      "source": [
        "top10=[x for x in df.Purpose.value_counts().sort_values(ascending=False).head(10).index]"
      ],
      "execution_count": null,
      "outputs": []
    },
    {
      "cell_type": "code",
      "metadata": {
        "id": "GAu26uTlW419",
        "colab": {
          "base_uri": "https://localhost:8080/"
        },
        "outputId": "86285c7a-7484-4be1-8055-aad8e0fd6d52"
      },
      "source": [
        "top10"
      ],
      "execution_count": null,
      "outputs": [
        {
          "output_type": "execute_result",
          "data": {
            "text/plain": [
              "['Debt Consolidation',\n",
              " 'other',\n",
              " 'Home Improvements',\n",
              " 'Other',\n",
              " 'Business Loan',\n",
              " 'Buy a Car',\n",
              " 'Medical Bills',\n",
              " 'Buy House',\n",
              " 'Take a Trip',\n",
              " 'major_purchase']"
            ]
          },
          "metadata": {},
          "execution_count": 127
        }
      ]
    },
    {
      "cell_type": "code",
      "metadata": {
        "id": "0g2I4FziW41-"
      },
      "source": [
        "for label in top10:\n",
        "    df[label]=np.where(df.Purpose==label,1,0)"
      ],
      "execution_count": null,
      "outputs": []
    },
    {
      "cell_type": "code",
      "metadata": {
        "id": "W8HcRMMJW41_"
      },
      "source": [
        ""
      ],
      "execution_count": null,
      "outputs": []
    },
    {
      "cell_type": "code",
      "metadata": {
        "id": "f1i373CeW41_"
      },
      "source": [
        ""
      ],
      "execution_count": null,
      "outputs": []
    },
    {
      "cell_type": "code",
      "metadata": {
        "id": "FQuYg714W42A"
      },
      "source": [
        ""
      ],
      "execution_count": null,
      "outputs": []
    },
    {
      "cell_type": "code",
      "metadata": {
        "id": "38-VHTNjW42A"
      },
      "source": [
        "# top3=[x for x in df['Home Ownership'].value_counts().sort_values(ascending=False).head(2).index]\n",
        "\n",
        "\n",
        "\n",
        "# for label in top3:\n",
        "#     df[label]=np.where(df['Home Ownership']==label,1,0)"
      ],
      "execution_count": null,
      "outputs": []
    },
    {
      "cell_type": "code",
      "metadata": {
        "id": "-HKFiokfW42B"
      },
      "source": [
        ""
      ],
      "execution_count": null,
      "outputs": []
    },
    {
      "cell_type": "code",
      "metadata": {
        "id": "6vxvNyCSW42B"
      },
      "source": [
        ""
      ],
      "execution_count": null,
      "outputs": []
    },
    {
      "cell_type": "code",
      "metadata": {
        "id": "WqhWV0-FW42C"
      },
      "source": [
        ""
      ],
      "execution_count": null,
      "outputs": []
    },
    {
      "cell_type": "code",
      "metadata": {
        "id": "FfvdIlzKW42C"
      },
      "source": [
        "df=pd.get_dummies(df, columns = ['Term','Home Ownership'],drop_first=True)\n"
      ],
      "execution_count": null,
      "outputs": []
    },
    {
      "cell_type": "code",
      "metadata": {
        "id": "_xGDhgPcW42D"
      },
      "source": [
        "df.loc[df['Years in current job'] == '10+ years', 'Years in current job'] = 10\n",
        "df.loc[df['Years in current job'] == '< 1 year', 'Years in current job'] = 0\n",
        "df.loc[df['Years in current job'] == '1 year', 'Years in current job'] = 1\n",
        "df.loc[df['Years in current job'] == '2 years', 'Years in current job'] = 2\n",
        "df.loc[df['Years in current job'] == '3 years', 'Years in current job'] = 3\n",
        "\n",
        "df.loc[df['Years in current job'] == '4 years', 'Years in current job'] = 4\n",
        "df.loc[df['Years in current job'] == '5 years', 'Years in current job'] = 5\n",
        "df.loc[df['Years in current job'] == '6 years', 'Years in current job'] = 6\n",
        "df.loc[df['Years in current job'] == '7 years', 'Years in current job'] = 7\n",
        "df.loc[df['Years in current job'] == '8 years', 'Years in current job'] = 8\n",
        "df.loc[df['Years in current job'] == '9 years', 'Years in current job'] = 9\n",
        "\n",
        "\n",
        "\n",
        "\n",
        "# df.loc[df['Years in current job'] == '< 1 year', 'Years in current job'] = 9\n",
        "# df.loc[df['Years in current job'] == '1 year', 'Years in current job'] = 7\n",
        "# df.loc[df['Years in current job'] == '2 years', 'Years in current job'] = 1\n",
        "# df.loc[df['Years in current job'] == '3 years', 'Years in current job'] = 0\n",
        "\n",
        "# df.loc[df['Years in current job'] == '4 years', 'Years in current job'] = 2\n",
        "# df.loc[df['Years in current job'] == '5 years', 'Years in current job'] = 3\n",
        "# df.loc[df['Years in current job'] == '6 years', 'Years in current job'] = 8\n",
        "# df.loc[df['Years in current job'] == '7 years', 'Years in current job'] = 6\n",
        "# df.loc[df['Years in current job'] == '8 years', 'Years in current job'] = 5\n",
        "# df.loc[df['Years in current job'] == '9 years', 'Years in current job'] = 10\n",
        "# df.loc[df['Years in current job'] == '10+ years', 'Years in current job'] = 4\n",
        "\n",
        "# df.loc[df['Term'] == 'Short Term', 'Term'] = 0\n",
        "# df.loc[df['Term'] == 'Long Term', 'Term'] = 1\n"
      ],
      "execution_count": null,
      "outputs": []
    },
    {
      "cell_type": "code",
      "metadata": {
        "id": "c3sXDBv7W42E",
        "colab": {
          "base_uri": "https://localhost:8080/"
        },
        "outputId": "8d7a8c41-a52a-45f0-942b-be042ae00951"
      },
      "source": [
        "df['Years in current job'].value_counts()"
      ],
      "execution_count": null,
      "outputs": [
        {
          "output_type": "execute_result",
          "data": {
            "text/plain": [
              "10    31110\n",
              "2      9133\n",
              "3      8169\n",
              "0      8163\n",
              "5      6786\n",
              "1      6459\n",
              "4      6143\n",
              "6      5685\n",
              "7      5577\n",
              "8      4580\n",
              "9      3954\n",
              "Name: Years in current job, dtype: int64"
            ]
          },
          "metadata": {},
          "execution_count": 132
        }
      ]
    },
    {
      "cell_type": "code",
      "metadata": {
        "id": "nL_64so5W42F",
        "colab": {
          "base_uri": "https://localhost:8080/"
        },
        "outputId": "a9d71894-294a-4319-d370-d0cc0d056723"
      },
      "source": [
        "df.info()"
      ],
      "execution_count": null,
      "outputs": [
        {
          "output_type": "stream",
          "name": "stdout",
          "text": [
            "<class 'pandas.core.frame.DataFrame'>\n",
            "Int64Index: 99981 entries, 0 to 99999\n",
            "Data columns (total 27 columns):\n",
            " #   Column                        Non-Null Count  Dtype  \n",
            "---  ------                        --------------  -----  \n",
            " 0   Loan Status                   99981 non-null  object \n",
            " 1   Current Loan Amount           99981 non-null  float64\n",
            " 2   Credit Score                  99981 non-null  float64\n",
            " 3   Annual Income                 99981 non-null  float64\n",
            " 4   Years in current job          95759 non-null  object \n",
            " 5   Purpose                       99981 non-null  object \n",
            " 6   Monthly Debt                  99981 non-null  float64\n",
            " 7   Years of Credit History       99981 non-null  float64\n",
            " 8   Number of Open Accounts       99981 non-null  float64\n",
            " 9   Number of Credit Problems     99981 non-null  float64\n",
            " 10  Current Credit Balance        99981 non-null  float64\n",
            " 11  Maximum Open Credit           99981 non-null  float64\n",
            " 12  Bankruptcies                  99981 non-null  float64\n",
            " 13  Debt Consolidation            99981 non-null  int64  \n",
            " 14  other                         99981 non-null  int64  \n",
            " 15  Home Improvements             99981 non-null  int64  \n",
            " 16  Other                         99981 non-null  int64  \n",
            " 17  Business Loan                 99981 non-null  int64  \n",
            " 18  Buy a Car                     99981 non-null  int64  \n",
            " 19  Medical Bills                 99981 non-null  int64  \n",
            " 20  Buy House                     99981 non-null  int64  \n",
            " 21  Take a Trip                   99981 non-null  int64  \n",
            " 22  major_purchase                99981 non-null  int64  \n",
            " 23  Term_Short Term               99981 non-null  uint8  \n",
            " 24  Home Ownership_Home Mortgage  99981 non-null  uint8  \n",
            " 25  Home Ownership_Own Home       99981 non-null  uint8  \n",
            " 26  Home Ownership_Rent           99981 non-null  uint8  \n",
            "dtypes: float64(10), int64(10), object(3), uint8(4)\n",
            "memory usage: 21.2+ MB\n"
          ]
        }
      ]
    },
    {
      "cell_type": "code",
      "metadata": {
        "id": "4d6fm0TnW42F"
      },
      "source": [
        "df['Years in current job'].fillna(10, inplace=True)"
      ],
      "execution_count": null,
      "outputs": []
    },
    {
      "cell_type": "code",
      "metadata": {
        "id": "nHOGHW_fW42F",
        "colab": {
          "base_uri": "https://localhost:8080/"
        },
        "outputId": "46b4ddf8-35b9-4304-c6e2-5e2f4a9605c3"
      },
      "source": [
        "df.isnull().sum()"
      ],
      "execution_count": null,
      "outputs": [
        {
          "output_type": "execute_result",
          "data": {
            "text/plain": [
              "Loan Status                     0\n",
              "Current Loan Amount             0\n",
              "Credit Score                    0\n",
              "Annual Income                   0\n",
              "Years in current job            0\n",
              "Purpose                         0\n",
              "Monthly Debt                    0\n",
              "Years of Credit History         0\n",
              "Number of Open Accounts         0\n",
              "Number of Credit Problems       0\n",
              "Current Credit Balance          0\n",
              "Maximum Open Credit             0\n",
              "Bankruptcies                    0\n",
              "Debt Consolidation              0\n",
              "other                           0\n",
              "Home Improvements               0\n",
              "Other                           0\n",
              "Business Loan                   0\n",
              "Buy a Car                       0\n",
              "Medical Bills                   0\n",
              "Buy House                       0\n",
              "Take a Trip                     0\n",
              "major_purchase                  0\n",
              "Term_Short Term                 0\n",
              "Home Ownership_Home Mortgage    0\n",
              "Home Ownership_Own Home         0\n",
              "Home Ownership_Rent             0\n",
              "dtype: int64"
            ]
          },
          "metadata": {},
          "execution_count": 135
        }
      ]
    },
    {
      "cell_type": "code",
      "metadata": {
        "id": "LKr0pGebW42G"
      },
      "source": [
        "df.loc[df['Loan Status'] == 'Charged Off', 'Loan Status'] = 0\n",
        "df.loc[df['Loan Status'] == 'Fully Paid', 'Loan Status'] = 1\n"
      ],
      "execution_count": null,
      "outputs": []
    },
    {
      "cell_type": "code",
      "metadata": {
        "id": "RNuaw6TeW42G",
        "colab": {
          "base_uri": "https://localhost:8080/"
        },
        "outputId": "e20c105d-4a98-4966-926c-3ab0b87642fb"
      },
      "source": [
        "df.columns"
      ],
      "execution_count": null,
      "outputs": [
        {
          "output_type": "execute_result",
          "data": {
            "text/plain": [
              "Index(['Loan Status', 'Current Loan Amount', 'Credit Score', 'Annual Income',\n",
              "       'Years in current job', 'Purpose', 'Monthly Debt',\n",
              "       'Years of Credit History', 'Number of Open Accounts',\n",
              "       'Number of Credit Problems', 'Current Credit Balance',\n",
              "       'Maximum Open Credit', 'Bankruptcies', 'Debt Consolidation', 'other',\n",
              "       'Home Improvements', 'Other', 'Business Loan', 'Buy a Car',\n",
              "       'Medical Bills', 'Buy House', 'Take a Trip', 'major_purchase',\n",
              "       'Term_Short Term', 'Home Ownership_Home Mortgage',\n",
              "       'Home Ownership_Own Home', 'Home Ownership_Rent'],\n",
              "      dtype='object')"
            ]
          },
          "metadata": {},
          "execution_count": 137
        }
      ]
    },
    {
      "cell_type": "code",
      "metadata": {
        "id": "sE5wKJ3AW42H"
      },
      "source": [
        "col=['Current Loan Amount', 'Credit Score', 'Annual Income',\n",
        "       'Years in current job', 'Monthly Debt',\n",
        "       'Years of Credit History', 'Number of Open Accounts',\n",
        "       'Number of Credit Problems', 'Current Credit Balance',\n",
        "       'Maximum Open Credit', 'Bankruptcies',\n",
        "       'Debt Consolidation', 'other', 'Home Improvements', 'Other',\n",
        "       'Business Loan', 'Buy a Car', 'Medical Bills', 'Buy House',\n",
        "       'Take a Trip', 'major_purchase', 'Term_Short Term',\n",
        "       'Home Ownership_Home Mortgage', 'Home Ownership_Own Home',\n",
        "       'Home Ownership_Rent']"
      ],
      "execution_count": null,
      "outputs": []
    },
    {
      "cell_type": "markdown",
      "metadata": {
        "id": "s7CTopCBW42H"
      },
      "source": [
        "# Building the model"
      ]
    },
    {
      "cell_type": "code",
      "metadata": {
        "id": "twyRNlLeW42I"
      },
      "source": [
        "from sklearn.model_selection import train_test_split\n",
        "\n",
        "X=df[col] \n",
        "y=df['Loan Status'].astype('int')\n",
        "\n",
        "# Split dataset into training set and test set\n",
        "X_train, X_test, y_train, y_test = train_test_split(X, y, test_size=0.2) "
      ],
      "execution_count": null,
      "outputs": []
    },
    {
      "cell_type": "code",
      "metadata": {
        "id": "2Zj8TOyZW42I"
      },
      "source": [
        "# from imblearn.combine import SMOTEENN\n",
        "# smenn=SMOTEENN()\n",
        "# X_train, y_train=smenn.fit_resample(X_train,y_train)"
      ],
      "execution_count": null,
      "outputs": []
    },
    {
      "cell_type": "code",
      "metadata": {
        "id": "QHGaSuaVW42J"
      },
      "source": [
        ""
      ],
      "execution_count": null,
      "outputs": []
    },
    {
      "cell_type": "markdown",
      "metadata": {
        "id": "AZYcBuY1WhjE"
      },
      "source": [
        "# **Neural Network Model**"
      ]
    },
    {
      "cell_type": "code",
      "metadata": {
        "id": "2UTtXuZ0W42J"
      },
      "source": [
        "from keras.models import Sequential\n",
        "from keras.layers import Dense\n",
        "from keras.layers import LeakyReLU"
      ],
      "execution_count": null,
      "outputs": []
    },
    {
      "cell_type": "code",
      "metadata": {
        "id": "fSSKqqv6hkc6"
      },
      "source": [
        "model=Sequential()\n",
        "model.add(Dense(35,activation=\"relu\"))\n",
        "model.add(Dense(20,activation=\"relu\"))\n",
        "model.add(Dense(20,activation=\"relu\"))\n",
        "model.add(Dense(10,activation=\"relu\"))\n",
        "model.add(Dense(10,activation=\"relu\"))\n",
        "model.add(Dense(5,activation=\"relu\"))\n",
        "model.add(Dense(1,activation=\"sigmoid\"))\n",
        "\n",
        "model.compile(optimizer = 'adam', loss = 'binary_crossentropy',metrics=\"accuracy\")"
      ],
      "execution_count": null,
      "outputs": []
    },
    {
      "cell_type": "code",
      "metadata": {
        "id": "Gx8DsgKniNgy",
        "colab": {
          "base_uri": "https://localhost:8080/"
        },
        "outputId": "5a0dd295-b94c-4b62-b45f-c310b4cf68cf"
      },
      "source": [
        "model.fit(X_train, y_train, batch_size = 32, epochs = 50)"
      ],
      "execution_count": null,
      "outputs": [
        {
          "metadata": {
            "tags": null
          },
          "name": "stdout",
          "output_type": "stream",
          "text": [
            "Epoch 1/50\n",
            "2500/2500 [==============================] - 13s 4ms/step - loss: 519.9578 - accuracy: 0.6902\n",
            "Epoch 2/50\n",
            "2500/2500 [==============================] - 10s 4ms/step - loss: 147.7569 - accuracy: 0.6859\n",
            "Epoch 3/50\n",
            "2500/2500 [==============================] - 10s 4ms/step - loss: 32.4009 - accuracy: 0.6940\n",
            "Epoch 4/50\n",
            "2500/2500 [==============================] - 10s 4ms/step - loss: 11.6696 - accuracy: 0.7059\n",
            "Epoch 5/50\n",
            "2500/2500 [==============================] - 9s 4ms/step - loss: 0.5148 - accuracy: 0.7732\n",
            "Epoch 6/50\n",
            "2500/2500 [==============================] - 10s 4ms/step - loss: 0.5038 - accuracy: 0.7732\n",
            "Epoch 7/50\n",
            "2500/2500 [==============================] - 9s 4ms/step - loss: 0.5103 - accuracy: 0.7732\n",
            "Epoch 8/50\n",
            "2500/2500 [==============================] - 9s 4ms/step - loss: 0.5038 - accuracy: 0.7732\n",
            "Epoch 9/50\n",
            "2500/2500 [==============================] - 9s 4ms/step - loss: 0.5038 - accuracy: 0.7732\n",
            "Epoch 10/50\n",
            "2500/2500 [==============================] - 9s 4ms/step - loss: 0.5038 - accuracy: 0.7732\n",
            "Epoch 11/50\n",
            "2500/2500 [==============================] - 9s 4ms/step - loss: 0.5038 - accuracy: 0.7732\n",
            "Epoch 12/50\n",
            "2500/2500 [==============================] - 9s 4ms/step - loss: 0.5038 - accuracy: 0.7732\n",
            "Epoch 13/50\n",
            "2500/2500 [==============================] - 9s 4ms/step - loss: 0.5038 - accuracy: 0.7732\n",
            "Epoch 14/50\n",
            "2500/2500 [==============================] - 9s 4ms/step - loss: 0.5038 - accuracy: 0.7732\n",
            "Epoch 15/50\n",
            "2500/2500 [==============================] - 9s 4ms/step - loss: 0.5038 - accuracy: 0.7732\n",
            "Epoch 16/50\n",
            "2500/2500 [==============================] - 9s 4ms/step - loss: 0.5038 - accuracy: 0.7732\n",
            "Epoch 17/50\n",
            "2500/2500 [==============================] - 9s 4ms/step - loss: 0.5038 - accuracy: 0.7732\n",
            "Epoch 18/50\n",
            "2500/2500 [==============================] - 9s 4ms/step - loss: 0.5038 - accuracy: 0.7732\n",
            "Epoch 19/50\n",
            "2500/2500 [==============================] - 10s 4ms/step - loss: 0.5038 - accuracy: 0.7732\n",
            "Epoch 20/50\n",
            "2500/2500 [==============================] - 9s 4ms/step - loss: 0.5038 - accuracy: 0.7732\n",
            "Epoch 21/50\n",
            "2500/2500 [==============================] - 9s 4ms/step - loss: 0.5038 - accuracy: 0.7732\n",
            "Epoch 22/50\n",
            "2500/2500 [==============================] - 10s 4ms/step - loss: 0.5038 - accuracy: 0.7732\n",
            "Epoch 23/50\n",
            "2500/2500 [==============================] - 9s 4ms/step - loss: 0.5038 - accuracy: 0.7732\n",
            "Epoch 24/50\n",
            "2500/2500 [==============================] - 9s 4ms/step - loss: 0.5038 - accuracy: 0.7732\n",
            "Epoch 25/50\n",
            "2500/2500 [==============================] - 10s 4ms/step - loss: 0.5038 - accuracy: 0.7732\n",
            "Epoch 26/50\n",
            "2500/2500 [==============================] - 10s 4ms/step - loss: 0.5038 - accuracy: 0.7732\n",
            "Epoch 27/50\n",
            "2500/2500 [==============================] - 9s 4ms/step - loss: 0.5038 - accuracy: 0.7732\n",
            "Epoch 28/50\n",
            "2500/2500 [==============================] - 9s 4ms/step - loss: 0.5038 - accuracy: 0.7732\n",
            "Epoch 29/50\n",
            "2500/2500 [==============================] - 9s 4ms/step - loss: 0.5038 - accuracy: 0.7732\n",
            "Epoch 30/50\n",
            "2500/2500 [==============================] - 10s 4ms/step - loss: 0.5038 - accuracy: 0.7732\n",
            "Epoch 31/50\n",
            "2500/2500 [==============================] - 9s 4ms/step - loss: 0.5038 - accuracy: 0.7732\n",
            "Epoch 32/50\n",
            "2500/2500 [==============================] - 9s 4ms/step - loss: 0.5038 - accuracy: 0.7732\n",
            "Epoch 33/50\n",
            "2500/2500 [==============================] - 9s 4ms/step - loss: 0.5038 - accuracy: 0.7732\n",
            "Epoch 34/50\n",
            "2500/2500 [==============================] - 10s 4ms/step - loss: 0.5038 - accuracy: 0.7732\n",
            "Epoch 35/50\n",
            "2500/2500 [==============================] - 10s 4ms/step - loss: 0.5038 - accuracy: 0.7732\n",
            "Epoch 36/50\n",
            "2500/2500 [==============================] - 10s 4ms/step - loss: 0.5038 - accuracy: 0.7732\n",
            "Epoch 37/50\n",
            "2500/2500 [==============================] - 10s 4ms/step - loss: 0.5038 - accuracy: 0.7732\n",
            "Epoch 38/50\n",
            "2500/2500 [==============================] - 9s 4ms/step - loss: 0.5038 - accuracy: 0.7732\n",
            "Epoch 39/50\n",
            "2500/2500 [==============================] - 9s 4ms/step - loss: 0.5038 - accuracy: 0.7732\n",
            "Epoch 40/50\n",
            "2500/2500 [==============================] - 9s 4ms/step - loss: 0.5038 - accuracy: 0.7732\n",
            "Epoch 41/50\n",
            "2500/2500 [==============================] - 10s 4ms/step - loss: 0.5038 - accuracy: 0.7732\n",
            "Epoch 42/50\n",
            "2500/2500 [==============================] - 9s 4ms/step - loss: 0.5038 - accuracy: 0.7732\n",
            "Epoch 43/50\n",
            "2500/2500 [==============================] - 9s 4ms/step - loss: 0.5038 - accuracy: 0.7732\n",
            "Epoch 44/50\n",
            "2500/2500 [==============================] - 10s 4ms/step - loss: 0.5038 - accuracy: 0.7732\n",
            "Epoch 45/50\n",
            "2500/2500 [==============================] - 9s 4ms/step - loss: 0.5038 - accuracy: 0.7732\n",
            "Epoch 46/50\n",
            "2500/2500 [==============================] - 9s 4ms/step - loss: 0.5038 - accuracy: 0.7732\n",
            "Epoch 47/50\n",
            "2500/2500 [==============================] - 9s 4ms/step - loss: 0.5038 - accuracy: 0.7732\n",
            "Epoch 48/50\n",
            "2500/2500 [==============================] - 9s 4ms/step - loss: 0.5038 - accuracy: 0.7732\n",
            "Epoch 49/50\n",
            "2500/2500 [==============================] - 9s 4ms/step - loss: 0.5038 - accuracy: 0.7732\n",
            "Epoch 50/50\n",
            "2500/2500 [==============================] - 9s 4ms/step - loss: 0.5038 - accuracy: 0.7732\n"
          ]
        },
        {
          "output_type": "execute_result",
          "data": {
            "text/plain": [
              "<keras.callbacks.History at 0x7f28e01d73d0>"
            ]
          },
          "metadata": {},
          "execution_count": 143
        }
      ]
    },
    {
      "cell_type": "code",
      "metadata": {
        "id": "oBRQAxkYiOEV"
      },
      "source": [
        ""
      ],
      "execution_count": null,
      "outputs": []
    },
    {
      "cell_type": "code",
      "metadata": {
        "id": "JI1RU8atW42K"
      },
      "source": [
        "y_pred=model.predict(X_test)"
      ],
      "execution_count": null,
      "outputs": []
    },
    {
      "cell_type": "code",
      "metadata": {
        "id": "Zx74fLOhXIix"
      },
      "source": [
        "for i in range(len(y_pred)):\n",
        "  if y_pred[i]>0.5:\n",
        "    y_pred[i]=1\n",
        "  else:\n",
        "    y_pred[i]=0"
      ],
      "execution_count": null,
      "outputs": []
    },
    {
      "cell_type": "code",
      "metadata": {
        "id": "JyHdowtPW42K",
        "colab": {
          "base_uri": "https://localhost:8080/"
        },
        "outputId": "f400ab0d-782c-468f-880a-c5f1c0fa33c8"
      },
      "source": [
        "from sklearn import metrics\n",
        "from sklearn.metrics import classification_report, confusion_matrix\n",
        "print(classification_report(y_test, y_pred))\n",
        "print(\"Accuracy:\",metrics.accuracy_score(y_test, y_pred))\n",
        "print(\"Precision score:\",metrics.precision_score(y_test, y_pred))\n",
        "print(\"Recall score:\",metrics.recall_score(y_test, y_pred))\n"
      ],
      "execution_count": null,
      "outputs": [
        {
          "output_type": "stream",
          "name": "stdout",
          "text": [
            "              precision    recall  f1-score   support\n",
            "\n",
            "           0       0.00      0.00      0.00      4498\n",
            "           1       0.78      1.00      0.87     15499\n",
            "\n",
            "    accuracy                           0.78     19997\n",
            "   macro avg       0.39      0.50      0.44     19997\n",
            "weighted avg       0.60      0.78      0.68     19997\n",
            "\n",
            "Accuracy: 0.7750662599389908\n",
            "Precision score: 0.7750662599389908\n",
            "Recall score: 1.0\n"
          ]
        },
        {
          "output_type": "stream",
          "name": "stderr",
          "text": [
            "/usr/local/lib/python3.7/dist-packages/sklearn/metrics/_classification.py:1272: UndefinedMetricWarning: Precision and F-score are ill-defined and being set to 0.0 in labels with no predicted samples. Use `zero_division` parameter to control this behavior.\n",
            "  _warn_prf(average, modifier, msg_start, len(result))\n"
          ]
        }
      ]
    },
    {
      "cell_type": "markdown",
      "metadata": {
        "id": "W4Cp0WAzX6SW"
      },
      "source": [
        "# **Random Forest**"
      ]
    },
    {
      "cell_type": "code",
      "metadata": {
        "id": "Q9hf53a2X49j"
      },
      "source": [
        "from sklearn.model_selection import GridSearchCV\n",
        "from sklearn.ensemble import RandomForestClassifier\n",
        "\n",
        "param_grid = {\n",
        "    'max_depth': [5,7,9,11],\n",
        "    'min_samples_leaf': [10,20,50],\n",
        "    'min_samples_split': [10, 20,50],\n",
        "    'n_estimators': [100, 200, 300, 400,500]\n",
        "}\n",
        "rf = RandomForestClassifier()\n",
        "grid_search = GridSearchCV(estimator = rf, param_grid = param_grid, \n",
        "                          cv = 3, n_jobs = -1, verbose = 2)\n",
        "grid_search.fit(X_train, y_train)\n",
        "grid_search.best_params_"
      ],
      "execution_count": null,
      "outputs": []
    },
    {
      "cell_type": "code",
      "metadata": {
        "id": "Nf3MjUSAW42L",
        "colab": {
          "base_uri": "https://localhost:8080/"
        },
        "outputId": "198fa5e5-f071-497a-a56b-578b71dc7e96"
      },
      "source": [
        "from sklearn.ensemble import RandomForestClassifier\n",
        "\n",
        "clf=RandomForestClassifier(max_depth= 11,\n",
        " min_samples_leaf= 50,\n",
        " min_samples_split= 50,\n",
        " n_estimators= 100)\n",
        "\n",
        "clf.fit(X_train,y_train)"
      ],
      "execution_count": null,
      "outputs": [
        {
          "output_type": "execute_result",
          "data": {
            "text/plain": [
              "RandomForestClassifier(bootstrap=True, ccp_alpha=0.0, class_weight=None,\n",
              "                       criterion='gini', max_depth=11, max_features='auto',\n",
              "                       max_leaf_nodes=None, max_samples=None,\n",
              "                       min_impurity_decrease=0.0, min_impurity_split=None,\n",
              "                       min_samples_leaf=50, min_samples_split=50,\n",
              "                       min_weight_fraction_leaf=0.0, n_estimators=100,\n",
              "                       n_jobs=None, oob_score=False, random_state=None,\n",
              "                       verbose=0, warm_start=False)"
            ]
          },
          "metadata": {},
          "execution_count": 155
        }
      ]
    },
    {
      "cell_type": "code",
      "metadata": {
        "id": "LOJiXUr3W42M"
      },
      "source": [
        "y_pred=clf.predict(X_test)"
      ],
      "execution_count": null,
      "outputs": []
    },
    {
      "cell_type": "code",
      "metadata": {
        "colab": {
          "base_uri": "https://localhost:8080/"
        },
        "id": "hDGGSfyrYK3f",
        "outputId": "2dcc4ef3-c04f-4688-8dde-94f5e1a314d5"
      },
      "source": [
        "from sklearn import metrics\n",
        "from sklearn.metrics import classification_report, confusion_matrix\n",
        "print(classification_report(y_test, y_pred))\n",
        "print(\"Accuracy:\",metrics.accuracy_score(y_test, y_pred))\n",
        "print(\"Precision score:\",metrics.precision_score(y_test, y_pred))\n",
        "print(\"Recall score:\",metrics.recall_score(y_test, y_pred))\n"
      ],
      "execution_count": null,
      "outputs": [
        {
          "output_type": "stream",
          "name": "stdout",
          "text": [
            "              precision    recall  f1-score   support\n",
            "\n",
            "           0       1.00      0.20      0.34      4498\n",
            "           1       0.81      1.00      0.90     15499\n",
            "\n",
            "    accuracy                           0.82     19997\n",
            "   macro avg       0.91      0.60      0.62     19997\n",
            "weighted avg       0.85      0.82      0.77     19997\n",
            "\n",
            "Accuracy: 0.8206731009651448\n",
            "Precision score: 0.8121037463976946\n",
            "Recall score: 1.0\n"
          ]
        }
      ]
    },
    {
      "cell_type": "markdown",
      "metadata": {
        "id": "GElYqG0DY3pe"
      },
      "source": [
        "# **KNN**"
      ]
    },
    {
      "cell_type": "code",
      "metadata": {
        "colab": {
          "base_uri": "https://localhost:8080/"
        },
        "id": "hfEG6Y8uYfo5",
        "outputId": "0083d3bd-3e49-41cf-82dd-7f98964d2d4b"
      },
      "source": [
        "from sklearn.neighbors import KNeighborsClassifier\n",
        "\n",
        "knn = KNeighborsClassifier(n_neighbors=20,weights='distance')\n",
        "\n",
        "knn.fit(X_train, y_train)\n",
        "\n",
        "y_pred = knn.predict(X_test)\n",
        "from sklearn import metrics\n",
        "print(\"Accuracy:\",metrics.accuracy_score(y_test, y_pred))"
      ],
      "execution_count": null,
      "outputs": [
        {
          "output_type": "stream",
          "name": "stdout",
          "text": [
            "Accuracy: 0.770665599839976\n"
          ]
        }
      ]
    },
    {
      "cell_type": "code",
      "metadata": {
        "colab": {
          "base_uri": "https://localhost:8080/"
        },
        "id": "7Ou6PpJhY-Sf",
        "outputId": "df3a33b0-7c68-4956-e499-bb6eaebfb217"
      },
      "source": [
        "from sklearn import metrics\n",
        "from sklearn.metrics import classification_report, confusion_matrix\n",
        "print(classification_report(y_test, y_pred))\n",
        "print(\"Accuracy:\",metrics.accuracy_score(y_test, y_pred))\n",
        "print(\"Precision score:\",metrics.precision_score(y_test, y_pred))\n",
        "print(\"Recall score:\",metrics.recall_score(y_test, y_pred))"
      ],
      "execution_count": null,
      "outputs": [
        {
          "output_type": "stream",
          "name": "stdout",
          "text": [
            "              precision    recall  f1-score   support\n",
            "\n",
            "           0       0.41      0.04      0.08      4498\n",
            "           1       0.78      0.98      0.87     15499\n",
            "\n",
            "    accuracy                           0.77     19997\n",
            "   macro avg       0.59      0.51      0.47     19997\n",
            "weighted avg       0.70      0.77      0.69     19997\n",
            "\n",
            "Accuracy: 0.770665599839976\n",
            "Precision score: 0.7795481325887597\n",
            "Recall score: 0.9817407574682238\n"
          ]
        }
      ]
    },
    {
      "cell_type": "markdown",
      "metadata": {
        "id": "7X6hM6lIZQBT"
      },
      "source": [
        "# **Cataboost Classifier**"
      ]
    },
    {
      "cell_type": "code",
      "metadata": {
        "id": "T68TzzqEZEbW"
      },
      "source": [
        "from sklearn.model_selection import GridSearchCV\n",
        "\n",
        " \n",
        "# defining parameter range\n",
        "param_grid = {'max_depth': [3,4,5,10],'n_estimators':[100, 200, 300],'learning_rate':[.1,.01,.5,.2]}\n",
        " \n",
        "grid = GridSearchCV(CatBoostClassifier(), param_grid, refit = True, verbose = 3)\n",
        " \n",
        "# fitting the model for grid search\n",
        "grid.fit(X_train, y_train)\n",
        "print(grid.best_params_)\n",
        "print(grid.best_estimator_)"
      ],
      "execution_count": null,
      "outputs": []
    },
    {
      "cell_type": "code",
      "metadata": {
        "colab": {
          "base_uri": "https://localhost:8080/"
        },
        "id": "t-pjYFcNZxmO",
        "outputId": "11561799-4c6e-47b7-ff4c-60bbeefbeb80"
      },
      "source": [
        "!pip install catboost"
      ],
      "execution_count": null,
      "outputs": [
        {
          "output_type": "stream",
          "name": "stdout",
          "text": [
            "Collecting catboost\n",
            "  Downloading catboost-1.0.3-cp37-none-manylinux1_x86_64.whl (76.3 MB)\n",
            "\u001b[K     |████████████████████████████████| 76.3 MB 28 kB/s \n",
            "\u001b[?25hRequirement already satisfied: numpy>=1.16.0 in /usr/local/lib/python3.7/dist-packages (from catboost) (1.19.5)\n",
            "Requirement already satisfied: matplotlib in /usr/local/lib/python3.7/dist-packages (from catboost) (3.2.2)\n",
            "Requirement already satisfied: plotly in /usr/local/lib/python3.7/dist-packages (from catboost) (4.4.1)\n",
            "Requirement already satisfied: six in /usr/local/lib/python3.7/dist-packages (from catboost) (1.15.0)\n",
            "Requirement already satisfied: graphviz in /usr/local/lib/python3.7/dist-packages (from catboost) (0.10.1)\n",
            "Requirement already satisfied: pandas>=0.24.0 in /usr/local/lib/python3.7/dist-packages (from catboost) (1.1.5)\n",
            "Requirement already satisfied: scipy in /usr/local/lib/python3.7/dist-packages (from catboost) (1.4.1)\n",
            "Requirement already satisfied: python-dateutil>=2.7.3 in /usr/local/lib/python3.7/dist-packages (from pandas>=0.24.0->catboost) (2.8.2)\n",
            "Requirement already satisfied: pytz>=2017.2 in /usr/local/lib/python3.7/dist-packages (from pandas>=0.24.0->catboost) (2018.9)\n",
            "Requirement already satisfied: pyparsing!=2.0.4,!=2.1.2,!=2.1.6,>=2.0.1 in /usr/local/lib/python3.7/dist-packages (from matplotlib->catboost) (2.4.7)\n",
            "Requirement already satisfied: cycler>=0.10 in /usr/local/lib/python3.7/dist-packages (from matplotlib->catboost) (0.10.0)\n",
            "Requirement already satisfied: kiwisolver>=1.0.1 in /usr/local/lib/python3.7/dist-packages (from matplotlib->catboost) (1.3.2)\n",
            "Requirement already satisfied: retrying>=1.3.3 in /usr/local/lib/python3.7/dist-packages (from plotly->catboost) (1.3.3)\n",
            "Installing collected packages: catboost\n",
            "Successfully installed catboost-1.0.3\n"
          ]
        }
      ]
    },
    {
      "cell_type": "code",
      "metadata": {
        "colab": {
          "base_uri": "https://localhost:8080/"
        },
        "id": "_ZJvwxZMZVxg",
        "outputId": "c40e70da-6794-45b7-b420-ca171f39b692"
      },
      "source": [
        "from catboost import CatBoostClassifier\n",
        "\n",
        "# train the model on train set\n",
        "model = CatBoostClassifier(learning_rate =0.1, max_depth =10, n_estimators= 100)\n",
        "model.fit(X_train, y_train)\n",
        " \n",
        "# print prediction results\n",
        "predictions = model.predict(X_test)\n",
        "print(classification_report(y_test, predictions))"
      ],
      "execution_count": null,
      "outputs": [
        {
          "output_type": "stream",
          "name": "stdout",
          "text": [
            "0:\tlearn: 0.6243491\ttotal: 60.1ms\tremaining: 5.95s\n",
            "1:\tlearn: 0.5773972\ttotal: 119ms\tremaining: 5.83s\n",
            "2:\tlearn: 0.5472265\ttotal: 177ms\tremaining: 5.71s\n",
            "3:\tlearn: 0.5245745\ttotal: 196ms\tremaining: 4.71s\n",
            "4:\tlearn: 0.5065510\ttotal: 230ms\tremaining: 4.36s\n",
            "5:\tlearn: 0.4918367\ttotal: 293ms\tremaining: 4.59s\n",
            "6:\tlearn: 0.4829527\ttotal: 321ms\tremaining: 4.27s\n",
            "7:\tlearn: 0.4691161\ttotal: 382ms\tremaining: 4.4s\n",
            "8:\tlearn: 0.4614232\ttotal: 443ms\tremaining: 4.47s\n",
            "9:\tlearn: 0.4561791\ttotal: 504ms\tremaining: 4.53s\n",
            "10:\tlearn: 0.4513054\ttotal: 566ms\tremaining: 4.58s\n",
            "11:\tlearn: 0.4449897\ttotal: 634ms\tremaining: 4.65s\n",
            "12:\tlearn: 0.4411807\ttotal: 692ms\tremaining: 4.63s\n",
            "13:\tlearn: 0.4387895\ttotal: 758ms\tremaining: 4.65s\n",
            "14:\tlearn: 0.4362130\ttotal: 827ms\tremaining: 4.68s\n",
            "15:\tlearn: 0.4341759\ttotal: 887ms\tremaining: 4.66s\n",
            "16:\tlearn: 0.4323085\ttotal: 966ms\tremaining: 4.71s\n",
            "17:\tlearn: 0.4288434\ttotal: 1.03s\tremaining: 4.68s\n",
            "18:\tlearn: 0.4272869\ttotal: 1.09s\tremaining: 4.65s\n",
            "19:\tlearn: 0.4257512\ttotal: 1.15s\tremaining: 4.6s\n",
            "20:\tlearn: 0.4246867\ttotal: 1.21s\tremaining: 4.56s\n",
            "21:\tlearn: 0.4233922\ttotal: 1.27s\tremaining: 4.52s\n",
            "22:\tlearn: 0.4219835\ttotal: 1.33s\tremaining: 4.47s\n",
            "23:\tlearn: 0.4209934\ttotal: 1.4s\tremaining: 4.42s\n",
            "24:\tlearn: 0.4201336\ttotal: 1.46s\tremaining: 4.38s\n",
            "25:\tlearn: 0.4190239\ttotal: 1.54s\tremaining: 4.38s\n",
            "26:\tlearn: 0.4174945\ttotal: 1.6s\tremaining: 4.32s\n",
            "27:\tlearn: 0.4168834\ttotal: 1.66s\tremaining: 4.26s\n",
            "28:\tlearn: 0.4160683\ttotal: 1.72s\tremaining: 4.22s\n",
            "29:\tlearn: 0.4151212\ttotal: 1.78s\tremaining: 4.16s\n",
            "30:\tlearn: 0.4144288\ttotal: 1.84s\tremaining: 4.1s\n",
            "31:\tlearn: 0.4137448\ttotal: 1.91s\tremaining: 4.05s\n",
            "32:\tlearn: 0.4129919\ttotal: 1.98s\tremaining: 4.02s\n",
            "33:\tlearn: 0.4123034\ttotal: 2.05s\tremaining: 3.98s\n",
            "34:\tlearn: 0.4115939\ttotal: 2.11s\tremaining: 3.92s\n",
            "35:\tlearn: 0.4110031\ttotal: 2.17s\tremaining: 3.85s\n",
            "36:\tlearn: 0.4105341\ttotal: 2.23s\tremaining: 3.79s\n",
            "37:\tlearn: 0.4095773\ttotal: 2.29s\tremaining: 3.73s\n",
            "38:\tlearn: 0.4090079\ttotal: 2.35s\tremaining: 3.68s\n",
            "39:\tlearn: 0.4086667\ttotal: 2.41s\tremaining: 3.62s\n",
            "40:\tlearn: 0.4080054\ttotal: 2.48s\tremaining: 3.57s\n",
            "41:\tlearn: 0.4074269\ttotal: 2.54s\tremaining: 3.51s\n",
            "42:\tlearn: 0.4069153\ttotal: 2.6s\tremaining: 3.45s\n",
            "43:\tlearn: 0.4061164\ttotal: 2.67s\tremaining: 3.39s\n",
            "44:\tlearn: 0.4053580\ttotal: 2.73s\tremaining: 3.34s\n",
            "45:\tlearn: 0.4048694\ttotal: 2.79s\tremaining: 3.28s\n",
            "46:\tlearn: 0.4042904\ttotal: 2.86s\tremaining: 3.22s\n",
            "47:\tlearn: 0.4040271\ttotal: 2.92s\tremaining: 3.16s\n",
            "48:\tlearn: 0.4035375\ttotal: 3s\tremaining: 3.12s\n",
            "49:\tlearn: 0.4033431\ttotal: 3.06s\tremaining: 3.06s\n",
            "50:\tlearn: 0.4026392\ttotal: 3.12s\tremaining: 3s\n",
            "51:\tlearn: 0.4020422\ttotal: 3.19s\tremaining: 2.94s\n",
            "52:\tlearn: 0.4014979\ttotal: 3.25s\tremaining: 2.88s\n",
            "53:\tlearn: 0.4008363\ttotal: 3.32s\tremaining: 2.83s\n",
            "54:\tlearn: 0.4005429\ttotal: 3.38s\tremaining: 2.77s\n",
            "55:\tlearn: 0.3997052\ttotal: 3.44s\tremaining: 2.71s\n",
            "56:\tlearn: 0.3993172\ttotal: 3.51s\tremaining: 2.65s\n",
            "57:\tlearn: 0.3987549\ttotal: 3.57s\tremaining: 2.59s\n",
            "58:\tlearn: 0.3981945\ttotal: 3.64s\tremaining: 2.53s\n",
            "59:\tlearn: 0.3979274\ttotal: 3.7s\tremaining: 2.46s\n",
            "60:\tlearn: 0.3975181\ttotal: 3.76s\tremaining: 2.4s\n",
            "61:\tlearn: 0.3970638\ttotal: 3.82s\tremaining: 2.34s\n",
            "62:\tlearn: 0.3967164\ttotal: 3.88s\tremaining: 2.28s\n",
            "63:\tlearn: 0.3961449\ttotal: 3.95s\tremaining: 2.22s\n",
            "64:\tlearn: 0.3955962\ttotal: 4.02s\tremaining: 2.16s\n",
            "65:\tlearn: 0.3952379\ttotal: 4.08s\tremaining: 2.1s\n",
            "66:\tlearn: 0.3946600\ttotal: 4.14s\tremaining: 2.04s\n",
            "67:\tlearn: 0.3943690\ttotal: 4.2s\tremaining: 1.97s\n",
            "68:\tlearn: 0.3938118\ttotal: 4.27s\tremaining: 1.92s\n",
            "69:\tlearn: 0.3933214\ttotal: 4.33s\tremaining: 1.85s\n",
            "70:\tlearn: 0.3927782\ttotal: 4.39s\tremaining: 1.79s\n",
            "71:\tlearn: 0.3922496\ttotal: 4.45s\tremaining: 1.73s\n",
            "72:\tlearn: 0.3919896\ttotal: 4.52s\tremaining: 1.67s\n",
            "73:\tlearn: 0.3917673\ttotal: 4.58s\tremaining: 1.61s\n",
            "74:\tlearn: 0.3914880\ttotal: 4.63s\tremaining: 1.54s\n",
            "75:\tlearn: 0.3909276\ttotal: 4.7s\tremaining: 1.48s\n",
            "76:\tlearn: 0.3907470\ttotal: 4.76s\tremaining: 1.42s\n",
            "77:\tlearn: 0.3905184\ttotal: 4.82s\tremaining: 1.36s\n",
            "78:\tlearn: 0.3898978\ttotal: 4.88s\tremaining: 1.3s\n",
            "79:\tlearn: 0.3894543\ttotal: 4.96s\tremaining: 1.24s\n",
            "80:\tlearn: 0.3892027\ttotal: 5.05s\tremaining: 1.18s\n",
            "81:\tlearn: 0.3888380\ttotal: 5.11s\tremaining: 1.12s\n",
            "82:\tlearn: 0.3884981\ttotal: 5.17s\tremaining: 1.06s\n",
            "83:\tlearn: 0.3882594\ttotal: 5.23s\tremaining: 996ms\n",
            "84:\tlearn: 0.3880273\ttotal: 5.29s\tremaining: 934ms\n",
            "85:\tlearn: 0.3875172\ttotal: 5.35s\tremaining: 872ms\n",
            "86:\tlearn: 0.3871007\ttotal: 5.42s\tremaining: 810ms\n",
            "87:\tlearn: 0.3863679\ttotal: 5.48s\tremaining: 748ms\n",
            "88:\tlearn: 0.3860816\ttotal: 5.55s\tremaining: 686ms\n",
            "89:\tlearn: 0.3855994\ttotal: 5.61s\tremaining: 623ms\n",
            "90:\tlearn: 0.3853132\ttotal: 5.67s\tremaining: 561ms\n",
            "91:\tlearn: 0.3849809\ttotal: 5.73s\tremaining: 498ms\n",
            "92:\tlearn: 0.3847128\ttotal: 5.8s\tremaining: 436ms\n",
            "93:\tlearn: 0.3843879\ttotal: 5.86s\tremaining: 374ms\n",
            "94:\tlearn: 0.3840652\ttotal: 5.92s\tremaining: 312ms\n",
            "95:\tlearn: 0.3836200\ttotal: 5.99s\tremaining: 250ms\n",
            "96:\tlearn: 0.3829412\ttotal: 6.05s\tremaining: 187ms\n",
            "97:\tlearn: 0.3826391\ttotal: 6.11s\tremaining: 125ms\n",
            "98:\tlearn: 0.3821770\ttotal: 6.17s\tremaining: 62.4ms\n",
            "99:\tlearn: 0.3817527\ttotal: 6.23s\tremaining: 0us\n",
            "              precision    recall  f1-score   support\n",
            "\n",
            "           0       0.95      0.22      0.36      4498\n",
            "           1       0.81      1.00      0.90     15499\n",
            "\n",
            "    accuracy                           0.82     19997\n",
            "   macro avg       0.88      0.61      0.63     19997\n",
            "weighted avg       0.85      0.82      0.78     19997\n",
            "\n"
          ]
        }
      ]
    },
    {
      "cell_type": "code",
      "metadata": {
        "colab": {
          "base_uri": "https://localhost:8080/"
        },
        "id": "Rn4nF83vZvyI",
        "outputId": "7fa8eca7-c6b2-4b6a-aefa-e43aca674d3e"
      },
      "source": [
        "print(\"Accuracy:\",metrics.accuracy_score(y_test, predictions))\n",
        "print(\"Precision score:\",metrics.precision_score(y_test, predictions))\n",
        "print(\"Recall score:\",metrics.recall_score(y_test, predictions))"
      ],
      "execution_count": null,
      "outputs": [
        {
          "output_type": "stream",
          "name": "stdout",
          "text": [
            "Accuracy: 0.8218732809921488\n",
            "Precision score: 0.814711310308463\n",
            "Recall score: 0.9969030260016776\n"
          ]
        }
      ]
    },
    {
      "cell_type": "markdown",
      "metadata": {
        "id": "oAMQlMEJatpg"
      },
      "source": [
        "# **Logistic Regresion**"
      ]
    },
    {
      "cell_type": "code",
      "metadata": {
        "id": "Swf_brhHaZOu"
      },
      "source": [
        "param_grid = [    \n",
        "    {'penalty' : ['l1', 'l2', 'elasticnet', 'none'],\n",
        "    'C' : np.logspace(-4, 4, 20),\n",
        "    'solver' : ['lbfgs','newton-cg','liblinear','sag','saga'],\n",
        "    'max_iter' : [100, 1000,2500, 5000]\n",
        "    }\n",
        "]\n",
        "from sklearn.model_selection import GridSearchCV\n",
        "clf = GridSearchCV(classifier, param_grid = param_grid, cv=2,verbose=True, n_jobs=-1)\n",
        "best_clf = clf.fit(X_train,y_train)\n",
        "print('Best Score: ', best_clf.best_score_*100)\n",
        "print('Best Params: ', best_clf.best_params_)"
      ],
      "execution_count": null,
      "outputs": []
    },
    {
      "cell_type": "code",
      "metadata": {
        "id": "Zbz5E54Ia03N"
      },
      "source": [
        "from sklearn.linear_model import LogisticRegression\n",
        "classifier = LogisticRegression(C= 0.0018329807108324356, max_iter = 1000, penalty = 'l2', solver= 'newton-cg')\n",
        "classifier.fit(X_train, y_train)\n",
        "y_pred = classifier.predict(X_test)"
      ],
      "execution_count": null,
      "outputs": []
    },
    {
      "cell_type": "code",
      "metadata": {
        "colab": {
          "base_uri": "https://localhost:8080/"
        },
        "id": "QG6YoT3Ca0_Y",
        "outputId": "004e0283-1571-4268-dfa0-c7d4e1a92ee4"
      },
      "source": [
        "from sklearn import metrics\n",
        "from sklearn.metrics import classification_report, confusion_matrix\n",
        "print(classification_report(y_test, y_pred))\n",
        "print(\"Accuracy:\",metrics.accuracy_score(y_test, y_pred))\n",
        "print(\"Precision score:\",metrics.precision_score(y_test, y_pred))\n",
        "print(\"Recall score:\",metrics.recall_score(y_test, y_pred))"
      ],
      "execution_count": null,
      "outputs": [
        {
          "output_type": "stream",
          "name": "stdout",
          "text": [
            "              precision    recall  f1-score   support\n",
            "\n",
            "           0       1.00      0.20      0.34      4498\n",
            "           1       0.81      1.00      0.90     15499\n",
            "\n",
            "    accuracy                           0.82     19997\n",
            "   macro avg       0.90      0.60      0.62     19997\n",
            "weighted avg       0.85      0.82      0.77     19997\n",
            "\n",
            "Accuracy: 0.8205730859628945\n",
            "Precision score: 0.8120840538699365\n",
            "Recall score: 0.9998709594167365\n"
          ]
        }
      ]
    },
    {
      "cell_type": "markdown",
      "metadata": {
        "id": "V7QUW6OMcOXk"
      },
      "source": [
        "# **XGBoost**"
      ]
    },
    {
      "cell_type": "code",
      "metadata": {
        "id": "wIN_zPxOcE7Q"
      },
      "source": [
        "from xgboost import XGBClassifier\n",
        "xgbr = XGBClassifier()\n",
        "\n",
        "\n",
        "params = { 'max_depth': [3, 5, 6, 10, 15, 20],\n",
        "           'learning_rate': [0.01, 0.1, 0.2, 0.3],\n",
        "           'subsample': np.arange(0.5, 1.0, 0.1),\n",
        "           'colsample_bytree': np.arange(0.4, 1.0, 0.1),\n",
        "           'colsample_bylevel': np.arange(0.4, 1.0, 0.1),\n",
        "           'n_estimators': [100, 500, 1000]}\n",
        "\n",
        "clf = RandomizedSearchCV(estimator=xgbr,\n",
        "                         param_distributions=params,\n",
        "                         n_iter=10, verbose=True, n_jobs=-1)\n",
        "clf.fit(X_train, y_train)\n",
        "print('Best Score: ', clf.best_score_*100)\n",
        "print('Best Params: ', clf.best_params_)"
      ],
      "execution_count": null,
      "outputs": []
    },
    {
      "cell_type": "code",
      "metadata": {
        "id": "cVP7DhWJcVZZ"
      },
      "source": [
        "from xgboost import XGBClassifier\n",
        "xgbr = XGBClassifier(subsample= 0.5, n_estimators=1000, max_depth= 10, learning_rate= 0.01, colsample_bytree= 0.6, colsample_bylevel=0.8999999999999999)\n",
        "xgbr.fit(X_train, y_train)\n",
        "y_pred = xgbr.predict(X_test)"
      ],
      "execution_count": null,
      "outputs": []
    },
    {
      "cell_type": "code",
      "metadata": {
        "colab": {
          "base_uri": "https://localhost:8080/"
        },
        "id": "oUZ3Hi5hcVjm",
        "outputId": "f87f2c0f-10c2-4968-d4e9-c3d4c58d4969"
      },
      "source": [
        "from sklearn import metrics\n",
        "from sklearn.metrics import classification_report, confusion_matrix\n",
        "print(classification_report(y_test, y_pred))\n",
        "print(\"Accuracy:\",metrics.accuracy_score(y_test, y_pred))\n",
        "print(\"Precision score:\",metrics.precision_score(y_test, y_pred))\n",
        "print(\"Recall score:\",metrics.recall_score(y_test, y_pred))"
      ],
      "execution_count": null,
      "outputs": [
        {
          "output_type": "stream",
          "name": "stdout",
          "text": [
            "              precision    recall  f1-score   support\n",
            "\n",
            "           0       0.94      0.23      0.37      4498\n",
            "           1       0.82      1.00      0.90     15499\n",
            "\n",
            "    accuracy                           0.82     19997\n",
            "   macro avg       0.88      0.61      0.63     19997\n",
            "weighted avg       0.84      0.82      0.78     19997\n",
            "\n",
            "Accuracy: 0.8228734310146522\n",
            "Precision score: 0.8160384839033673\n",
            "Recall score: 0.9959997419188334\n"
          ]
        }
      ]
    },
    {
      "cell_type": "code",
      "metadata": {
        "id": "mvHOh2nEegc9"
      },
      "source": [
        ""
      ],
      "execution_count": null,
      "outputs": []
    }
  ]
}